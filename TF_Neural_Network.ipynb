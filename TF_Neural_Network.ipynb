{
  "nbformat": 4,
  "nbformat_minor": 0,
  "metadata": {
    "colab": {
      "name": "TF_Neural_Network.ipynb",
      "provenance": [],
      "collapsed_sections": []
    },
    "kernelspec": {
      "name": "python3",
      "display_name": "Python 3"
    },
    "accelerator": "TPU"
  },
  "cells": [
    {
      "cell_type": "markdown",
      "metadata": {
        "id": "BGrSZkfUDxzy",
        "colab_type": "text"
      },
      "source": [
        "To introduce non linearity into the system we use activation functions. for example we use sigmoid, Tanh, ReLU and so on...\n",
        "\n",
        "Here we will learn to create a simple deep neural network and tune its hyperparameters.\n"
      ]
    },
    {
      "cell_type": "code",
      "metadata": {
        "id": "7hVn44nYPFNv",
        "colab_type": "code",
        "colab": {
          "base_uri": "https://localhost:8080/",
          "height": 34
        },
        "outputId": "ac81c71c-9951-42a3-a0f2-f8b017fa586b"
      },
      "source": [
        "%tensorflow_version 2.x\n",
        "from __future__ import absolute_import, division, print_function, unicode_literals"
      ],
      "execution_count": 1,
      "outputs": [
        {
          "output_type": "stream",
          "text": [
            "TensorFlow 2.x selected.\n"
          ],
          "name": "stdout"
        }
      ]
    },
    {
      "cell_type": "code",
      "metadata": {
        "id": "P_qHnKPiPZzX",
        "colab_type": "code",
        "colab": {
          "base_uri": "https://localhost:8080/",
          "height": 34
        },
        "outputId": "049921e5-e0c0-4133-ae77-b078397711d4"
      },
      "source": [
        "import numpy as np\n",
        "import pandas as pd\n",
        "import tensorflow as tf\n",
        "from tensorflow.keras import layers\n",
        "from matplotlib import pyplot as plt\n",
        "import seaborn as sns\n",
        "\n",
        "# The following lines adjust the granularity of reporting. \n",
        "pd.options.display.max_rows = 10\n",
        "pd.options.display.float_format = \"{:.1f}\".format\n",
        "\n",
        "print(\"Imported modules.\")"
      ],
      "execution_count": 2,
      "outputs": [
        {
          "output_type": "stream",
          "text": [
            "Imported modules.\n"
          ],
          "name": "stdout"
        }
      ]
    },
    {
      "cell_type": "code",
      "metadata": {
        "id": "IskuSJtxPkyN",
        "colab_type": "code",
        "colab": {}
      },
      "source": [
        "train_df = pd.read_csv('https://download.mlcc.google.com/mledu-datasets/california_housing_train.csv', sep=',')\n",
        "train_df = train_df.reindex(np.random.permutation(train_df.index))\n",
        "test_df = pd.read_csv('https://download.mlcc.google.com/mledu-datasets/california_housing_test.csv', sep=',')"
      ],
      "execution_count": 0,
      "outputs": []
    },
    {
      "cell_type": "code",
      "metadata": {
        "id": "FLFq4PolQDT4",
        "colab_type": "code",
        "colab": {
          "base_uri": "https://localhost:8080/",
          "height": 202
        },
        "outputId": "3ae4d1f8-c13e-479c-e164-8a4dd4ee3b71"
      },
      "source": [
        "# normalizing the values, by calculating z score\n",
        "\n",
        "train_df_mean = train_df.mean()\n",
        "train_df_std = train_df.std()\n",
        "train_df_norm = (train_df - train_df_mean) / train_df_std\n",
        "\n",
        "test_df_mean = test_df.mean()\n",
        "test_df_std = test_df.std()\n",
        "test_df_norm = (test_df - test_df_mean) / test_df_std\n",
        "train_df_norm.head()"
      ],
      "execution_count": 6,
      "outputs": [
        {
          "output_type": "execute_result",
          "data": {
            "text/html": [
              "<div>\n",
              "<style scoped>\n",
              "    .dataframe tbody tr th:only-of-type {\n",
              "        vertical-align: middle;\n",
              "    }\n",
              "\n",
              "    .dataframe tbody tr th {\n",
              "        vertical-align: top;\n",
              "    }\n",
              "\n",
              "    .dataframe thead th {\n",
              "        text-align: right;\n",
              "    }\n",
              "</style>\n",
              "<table border=\"1\" class=\"dataframe\">\n",
              "  <thead>\n",
              "    <tr style=\"text-align: right;\">\n",
              "      <th></th>\n",
              "      <th>longitude</th>\n",
              "      <th>latitude</th>\n",
              "      <th>housing_median_age</th>\n",
              "      <th>total_rooms</th>\n",
              "      <th>total_bedrooms</th>\n",
              "      <th>population</th>\n",
              "      <th>households</th>\n",
              "      <th>median_income</th>\n",
              "      <th>median_house_value</th>\n",
              "    </tr>\n",
              "  </thead>\n",
              "  <tbody>\n",
              "    <tr>\n",
              "      <th>14688</th>\n",
              "      <td>-1.3</td>\n",
              "      <td>1.0</td>\n",
              "      <td>1.4</td>\n",
              "      <td>-0.2</td>\n",
              "      <td>-0.4</td>\n",
              "      <td>-0.1</td>\n",
              "      <td>-0.4</td>\n",
              "      <td>-0.9</td>\n",
              "      <td>-1.0</td>\n",
              "    </tr>\n",
              "    <tr>\n",
              "      <th>9496</th>\n",
              "      <td>0.1</td>\n",
              "      <td>0.3</td>\n",
              "      <td>0.5</td>\n",
              "      <td>-0.6</td>\n",
              "      <td>-0.4</td>\n",
              "      <td>-0.2</td>\n",
              "      <td>-0.4</td>\n",
              "      <td>-1.3</td>\n",
              "      <td>-1.2</td>\n",
              "    </tr>\n",
              "    <tr>\n",
              "      <th>11843</th>\n",
              "      <td>-0.9</td>\n",
              "      <td>1.4</td>\n",
              "      <td>-1.4</td>\n",
              "      <td>-0.4</td>\n",
              "      <td>-0.3</td>\n",
              "      <td>-0.6</td>\n",
              "      <td>-0.2</td>\n",
              "      <td>-0.9</td>\n",
              "      <td>-0.4</td>\n",
              "    </tr>\n",
              "    <tr>\n",
              "      <th>3868</th>\n",
              "      <td>0.8</td>\n",
              "      <td>-0.8</td>\n",
              "      <td>0.6</td>\n",
              "      <td>-0.3</td>\n",
              "      <td>-0.5</td>\n",
              "      <td>-0.3</td>\n",
              "      <td>-0.4</td>\n",
              "      <td>0.7</td>\n",
              "      <td>-0.1</td>\n",
              "    </tr>\n",
              "    <tr>\n",
              "      <th>3065</th>\n",
              "      <td>0.9</td>\n",
              "      <td>-0.8</td>\n",
              "      <td>-0.7</td>\n",
              "      <td>0.1</td>\n",
              "      <td>-0.5</td>\n",
              "      <td>-0.4</td>\n",
              "      <td>-0.5</td>\n",
              "      <td>4.4</td>\n",
              "      <td>2.5</td>\n",
              "    </tr>\n",
              "  </tbody>\n",
              "</table>\n",
              "</div>"
            ],
            "text/plain": [
              "       longitude  latitude  ...  median_income  median_house_value\n",
              "14688       -1.3       1.0  ...           -0.9                -1.0\n",
              "9496         0.1       0.3  ...           -1.3                -1.2\n",
              "11843       -0.9       1.4  ...           -0.9                -0.4\n",
              "3868         0.8      -0.8  ...            0.7                -0.1\n",
              "3065         0.9      -0.8  ...            4.4                 2.5\n",
              "\n",
              "[5 rows x 9 columns]"
            ]
          },
          "metadata": {
            "tags": []
          },
          "execution_count": 6
        }
      ]
    },
    {
      "cell_type": "code",
      "metadata": {
        "id": "VY1Y0CsXQxK1",
        "colab_type": "code",
        "colab": {}
      },
      "source": [
        "feature_column = [] # empty list for holding all feature columns.\n",
        "\n",
        "resolution_in_zs = 0.3\n",
        "\n",
        "# create bucket feature column for latitude.\n",
        "latitude_numeric_column = tf.feature_column.numeric_column('latitude')\n",
        "latitude_boundaries = list(np.arange(int(min(train_df_norm['latitude'])), int(max(train_df_norm['latitude'])), resolution_in_zs))\n",
        "bucket_latitude = tf.feature_column.bucketized_column(latitude_numeric_column, latitude_boundaries)\n",
        "\n",
        "# create bucket feature column for longitude.\n",
        "longitude_numeric_column = tf.feature_column.numeric_column('longitude')\n",
        "longitude_boundaries = list(np.arange(int(min(train_df_norm['longitude'])), int(max(train_df_norm['longitude'])), resolution_in_zs))\n",
        "bucket_longitude = tf.feature_column.bucketized_column(longitude_numeric_column, longitude_boundaries)\n",
        "\n",
        "# feature cross for longitude and latitude\n",
        "longi_x_lati = tf.feature_column.crossed_column([bucket_latitude, bucket_longitude], hash_bucket_size=100)\n",
        "longi_x_lati_col = tf.feature_column.indicator_column(longi_x_lati)\n",
        "feature_column.append(longi_x_lati_col)\n",
        "\n",
        "# feature column for median income\n",
        "median_income = tf.feature_column.numeric_column('median_income')\n",
        "feature_column.append(median_income)\n",
        "\n",
        "# feature column for population\n",
        "population = tf.feature_column.numeric_column('population')\n",
        "feature_column.append(population)\n",
        "\n",
        "# convert the list of feature column into a dense layer that will later be fed into network for training.\n",
        "my_feature_layer = tf.keras.layers.DenseFeatures(feature_column)"
      ],
      "execution_count": 0,
      "outputs": []
    },
    {
      "cell_type": "code",
      "metadata": {
        "id": "rO4t9ozeW8pq",
        "colab_type": "code",
        "colab": {}
      },
      "source": [
        "# define plotting function\n",
        "def plot_the_loss_curve(epochs, mse):\n",
        "  \"\"\"Plot a curve of loss vs. epoch.\"\"\"\n",
        "\n",
        "  plt.figure()\n",
        "  plt.xlabel(\"Epoch\")\n",
        "  plt.ylabel(\"Mean Squared Error\")\n",
        "\n",
        "  plt.plot(epochs, mse, label=\"Loss\")\n",
        "  plt.legend()\n",
        "  plt.ylim([mse.min()*0.95, mse.max() * 1.03])\n",
        "  plt.show()"
      ],
      "execution_count": 0,
      "outputs": []
    },
    {
      "cell_type": "code",
      "metadata": {
        "id": "tEU4aFvvYKbT",
        "colab_type": "code",
        "colab": {}
      },
      "source": [
        "# creating functions to create and train model\n",
        "\n",
        "def create_model(my_learning_rate, feature_layer):\n",
        "  '''create and compile a simple linear regression model'''\n",
        "\n",
        "  model = tf.keras.Sequential()\n",
        "\n",
        "  model.add(feature_layer)\n",
        "\n",
        "  model.add(tf.keras.layers.Dense(units=1, input_shape=(1,)))\n",
        "\n",
        "  model.compile(optimizer=tf.keras.optimizers.RMSprop(my_learning_rate), loss='mean_squared_error', metrics=[tf.keras.metrics.MeanSquaredError()])\n",
        "\n",
        "  return model"
      ],
      "execution_count": 0,
      "outputs": []
    },
    {
      "cell_type": "code",
      "metadata": {
        "id": "AvXIYxLVZ5J7",
        "colab_type": "code",
        "colab": {}
      },
      "source": [
        "def train_model(model, dataset, epochs, batch_size, label_name):\n",
        "\n",
        "  features = {key:np.array(value) for key, value in dataset.items()}\n",
        "  label = np.array(features.pop(label_name))\n",
        "\n",
        "  history = model.fit(x=features, y=label, batch_size=batch_size, epochs=epochs, shuffle=True)\n",
        "  epochs = history.epoch\n",
        "  hist = pd.DataFrame(history.history)\n",
        "  rmse = hist['mean_squared_error']\n",
        "\n",
        "  return epochs, rmse"
      ],
      "execution_count": 0,
      "outputs": []
    },
    {
      "cell_type": "code",
      "metadata": {
        "id": "qAELX_sqbuaO",
        "colab_type": "code",
        "colab": {
          "base_uri": "https://localhost:8080/",
          "height": 1000
        },
        "outputId": "76bb6c76-c801-4e20-81ed-846aac91b8b8"
      },
      "source": [
        "learning_rate = 0.01\n",
        "epochs = 15\n",
        "batch_size = 1000\n",
        "label_name = 'median_house_value'\n",
        "\n",
        "my_model = create_model(learning_rate, my_feature_layer)\n",
        "\n",
        "epochs, rmse = train_model(my_model, train_df_norm, epochs, batch_size, label_name)\n",
        "\n",
        "plot_the_loss_curve(epochs, rmse)\n",
        "\n",
        "test_feature = {key:np.array(value) for key, value in test_df_norm.items()}\n",
        "test_label = np.array(test_feature.pop(label_name))\n",
        "\n",
        "print(\"\\n Evaluate the linear regression model against the test set:\")\n",
        "my_model.evaluate(x=test_feature, y=test_label, batch_size=batch_size)"
      ],
      "execution_count": 16,
      "outputs": [
        {
          "output_type": "stream",
          "text": [
            "WARNING:tensorflow:From /tensorflow-2.1.0/python3.6/tensorflow_core/python/feature_column/feature_column_v2.py:4267: IndicatorColumn._variable_shape (from tensorflow.python.feature_column.feature_column_v2) is deprecated and will be removed in a future version.\n",
            "Instructions for updating:\n",
            "The old _FeatureColumn APIs are being deprecated. Please use the new FeatureColumn APIs instead.\n",
            "WARNING:tensorflow:From /tensorflow-2.1.0/python3.6/tensorflow_core/python/feature_column/feature_column_v2.py:4322: CrossedColumn._num_buckets (from tensorflow.python.feature_column.feature_column_v2) is deprecated and will be removed in a future version.\n",
            "Instructions for updating:\n",
            "The old _FeatureColumn APIs are being deprecated. Please use the new FeatureColumn APIs instead.\n",
            "Train on 17000 samples\n",
            "Epoch 1/15\n",
            "17000/17000 [==============================] - 1s 40us/sample - loss: 0.6140 - mean_squared_error: 0.6140\n",
            "Epoch 2/15\n",
            "17000/17000 [==============================] - 0s 3us/sample - loss: 0.4543 - mean_squared_error: 0.4543\n",
            "Epoch 3/15\n",
            "17000/17000 [==============================] - 0s 3us/sample - loss: 0.3999 - mean_squared_error: 0.3999\n",
            "Epoch 4/15\n",
            "17000/17000 [==============================] - 0s 2us/sample - loss: 0.3801 - mean_squared_error: 0.3801\n",
            "Epoch 5/15\n",
            "17000/17000 [==============================] - 0s 3us/sample - loss: 0.3698 - mean_squared_error: 0.3698\n",
            "Epoch 6/15\n",
            "17000/17000 [==============================] - 0s 3us/sample - loss: 0.3644 - mean_squared_error: 0.3644\n",
            "Epoch 7/15\n",
            "17000/17000 [==============================] - 0s 3us/sample - loss: 0.3616 - mean_squared_error: 0.3616\n",
            "Epoch 8/15\n",
            "17000/17000 [==============================] - 0s 3us/sample - loss: 0.3608 - mean_squared_error: 0.3608\n",
            "Epoch 9/15\n",
            "17000/17000 [==============================] - 0s 2us/sample - loss: 0.3598 - mean_squared_error: 0.3598\n",
            "Epoch 10/15\n",
            "17000/17000 [==============================] - 0s 3us/sample - loss: 0.3599 - mean_squared_error: 0.3599\n",
            "Epoch 11/15\n",
            "17000/17000 [==============================] - 0s 3us/sample - loss: 0.3597 - mean_squared_error: 0.3597\n",
            "Epoch 12/15\n",
            "17000/17000 [==============================] - 0s 2us/sample - loss: 0.3600 - mean_squared_error: 0.3600\n",
            "Epoch 13/15\n",
            "17000/17000 [==============================] - 0s 2us/sample - loss: 0.3598 - mean_squared_error: 0.3598\n",
            "Epoch 14/15\n",
            "17000/17000 [==============================] - 0s 3us/sample - loss: 0.3595 - mean_squared_error: 0.3595\n",
            "Epoch 15/15\n",
            "17000/17000 [==============================] - 0s 3us/sample - loss: 0.3600 - mean_squared_error: 0.3600\n"
          ],
          "name": "stdout"
        },
        {
          "output_type": "display_data",
          "data": {
            "image/png": "[encoded data removed]",
            "text/plain": [
              "<Figure size 432x288 with 1 Axes>"
            ]
          },
          "metadata": {
            "tags": []
          }
        },
        {
          "output_type": "stream",
          "text": [
            "\n",
            " Evaluate the linear regression model against the test set:\n",
            "3000/3000 [==============================] - 0s 39us/sample - loss: 0.3951 - mean_squared_error: 0.3951\n"
          ],
          "name": "stdout"
        },
        {
          "output_type": "execute_result",
          "data": {
            "text/plain": [
              "[0.39514560500780743, 0.3951456]"
            ]
          },
          "metadata": {
            "tags": []
          },
          "execution_count": 16
        }
      ]
    },
    {
      "cell_type": "code",
      "metadata": {
        "id": "ueRnrWQAdTUo",
        "colab_type": "code",
        "colab": {}
      },
      "source": [
        "def create_deep_model(my_learning_rate, feature_layer):\n",
        "\n",
        "  model = tf.keras.Sequential()\n",
        "\n",
        "  model.add(feature_layer)\n",
        "\n",
        "  model.add(tf.keras.layers.Dense(10, 'relu', name='hidden1'))\n",
        "  model.add(tf.keras.layers.Dense(6, 'relu', name='hidden2'))\n",
        "  model.add(tf.keras.layers.Dense(1, name='output'))\n",
        "\n",
        "  model.compile(optimizer=tf.keras.optimizers.RMSprop(my_learning_rate), loss='mean_squared_error', metrics=[tf.keras.metrics.MeanSquaredError()])\n",
        "\n",
        "  return model"
      ],
      "execution_count": 0,
      "outputs": []
    },
    {
      "cell_type": "code",
      "metadata": {
        "id": "0KSL6OTEevqh",
        "colab_type": "code",
        "colab": {}
      },
      "source": [
        "def train_deep_model(model, dataset, epochs, label_name, batch_size=None):\n",
        "\n",
        "  features = {key:np.array(value) for key, value in dataset.items()}\n",
        "  label = np.array(features.pop(label_name))\n",
        "\n",
        "  history = model.fit(x=features, y = label, epochs = epochs, batch_size=batch_size, shuffle=True)\n",
        "\n",
        "  epochs = history.epoch\n",
        "  hist = pd.DataFrame(history.history)\n",
        "  mse = hist['mean_squared_error']\n",
        "\n",
        "  return epochs, mse"
      ],
      "execution_count": 0,
      "outputs": []
    },
    {
      "cell_type": "code",
      "metadata": {
        "id": "SfawkiN7gA-5",
        "colab_type": "code",
        "colab": {
          "base_uri": "https://localhost:8080/",
          "height": 1000
        },
        "outputId": "8612db79-bc6a-47b1-f73d-4d29ed6cf517"
      },
      "source": [
        "learning_rate = 0.01\n",
        "epochs = 20\n",
        "batch_size = 1000\n",
        "label_name = 'median_house_value'\n",
        "\n",
        "my_model = create_deep_model(learning_rate, my_feature_layer)\n",
        "\n",
        "epochs, mse = train_deep_model(my_model, train_df_norm, epochs, label_name, batch_size)\n",
        "\n",
        "plot_the_loss_curve(epochs, mse)\n",
        "\n",
        "my_model.evaluate(x=test_feature, y=test_label, batch_size=batch_size)"
      ],
      "execution_count": 24,
      "outputs": [
        {
          "output_type": "stream",
          "text": [
            "Train on 17000 samples\n",
            "Epoch 1/20\n",
            "17000/17000 [==============================] - 0s 28us/sample - loss: 0.5567 - mean_squared_error: 0.5567\n",
            "Epoch 2/20\n",
            "17000/17000 [==============================] - 0s 4us/sample - loss: 0.3581 - mean_squared_error: 0.3581\n",
            "Epoch 3/20\n",
            "17000/17000 [==============================] - 0s 3us/sample - loss: 0.3475 - mean_squared_error: 0.3475\n",
            "Epoch 4/20\n",
            "17000/17000 [==============================] - 0s 3us/sample - loss: 0.3483 - mean_squared_error: 0.3483\n",
            "Epoch 5/20\n",
            "17000/17000 [==============================] - 0s 4us/sample - loss: 0.3456 - mean_squared_error: 0.3456\n",
            "Epoch 6/20\n",
            "17000/17000 [==============================] - 0s 3us/sample - loss: 0.3433 - mean_squared_error: 0.3433\n",
            "Epoch 7/20\n",
            "17000/17000 [==============================] - 0s 3us/sample - loss: 0.3439 - mean_squared_error: 0.3439\n",
            "Epoch 8/20\n",
            "17000/17000 [==============================] - 0s 4us/sample - loss: 0.3429 - mean_squared_error: 0.3429\n",
            "Epoch 9/20\n",
            "17000/17000 [==============================] - 0s 4us/sample - loss: 0.3390 - mean_squared_error: 0.3390\n",
            "Epoch 10/20\n",
            "17000/17000 [==============================] - 0s 5us/sample - loss: 0.3437 - mean_squared_error: 0.3437\n",
            "Epoch 11/20\n",
            "17000/17000 [==============================] - 0s 4us/sample - loss: 0.3415 - mean_squared_error: 0.3415\n",
            "Epoch 12/20\n",
            "17000/17000 [==============================] - 0s 3us/sample - loss: 0.3400 - mean_squared_error: 0.3400\n",
            "Epoch 13/20\n",
            "17000/17000 [==============================] - 0s 3us/sample - loss: 0.3393 - mean_squared_error: 0.3393\n",
            "Epoch 14/20\n",
            "17000/17000 [==============================] - 0s 3us/sample - loss: 0.3388 - mean_squared_error: 0.3388\n",
            "Epoch 15/20\n",
            "17000/17000 [==============================] - 0s 3us/sample - loss: 0.3385 - mean_squared_error: 0.3385\n",
            "Epoch 16/20\n",
            "17000/17000 [==============================] - 0s 3us/sample - loss: 0.3372 - mean_squared_error: 0.3372\n",
            "Epoch 17/20\n",
            "17000/17000 [==============================] - 0s 3us/sample - loss: 0.3337 - mean_squared_error: 0.3337\n",
            "Epoch 18/20\n",
            "17000/17000 [==============================] - 0s 3us/sample - loss: 0.3339 - mean_squared_error: 0.3339\n",
            "Epoch 19/20\n",
            "17000/17000 [==============================] - 0s 3us/sample - loss: 0.3349 - mean_squared_error: 0.3349\n",
            "Epoch 20/20\n",
            "17000/17000 [==============================] - 0s 4us/sample - loss: 0.3328 - mean_squared_error: 0.3328\n"
          ],
          "name": "stdout"
        },
        {
          "output_type": "display_data",
          "data": {
            "image/png": "[encoded data removed]",
            "text/plain": [
              "<Figure size 432x288 with 1 Axes>"
            ]
          },
          "metadata": {
            "tags": []
          }
        },
        {
          "output_type": "stream",
          "text": [
            "3000/3000 [==============================] - 0s 40us/sample - loss: 0.3800 - mean_squared_error: 0.3800\n"
          ],
          "name": "stdout"
        },
        {
          "output_type": "execute_result",
          "data": {
            "text/plain": [
              "[0.3800416886806488, 0.38004166]"
            ]
          },
          "metadata": {
            "tags": []
          },
          "execution_count": 24
        }
      ]
    },
    {
      "cell_type": "code",
      "metadata": {
        "id": "q6IOd7tLj6wx",
        "colab_type": "code",
        "colab": {}
      },
      "source": [
        "def create_model_dense_regularizatio(my_learning_rate, feature_layer):\n",
        "\n",
        "  model = tf.keras.Sequential()\n",
        "\n",
        "  model.add(feature_layer)\n",
        "\n",
        "  model.add(tf.keras.layers.Dense(10, 'relu', kernel_regularizer=tf.keras.regularizers.l2(0.005), name='hidden1'))\n",
        "  model.add(tf.keras.layers.Dense(6, 'relu', kernel_regularizer=tf.keras.regularizers.l2(0.005), name='hidden2'))\n",
        "  model.add(tf.keras.layers.Dropout(0.1))\n",
        "  model.add(tf.keras.layers.Dense(1, name='output'))\n",
        "\n",
        "  model.compile(optimizer=tf.keras.optimizers.RMSprop(my_learning_rate), loss='mean_squared_error', metrics=[tf.keras.metrics.MeanSquaredError()])\n",
        "\n",
        "  return model"
      ],
      "execution_count": 0,
      "outputs": []
    },
    {
      "cell_type": "code",
      "metadata": {
        "id": "FzZvd6vHm7B1",
        "colab_type": "code",
        "colab": {
          "base_uri": "https://localhost:8080/",
          "height": 1000
        },
        "outputId": "4cce4785-f060-43e2-fddd-97a3ee3ccc76"
      },
      "source": [
        "learning_rate = 0.01\n",
        "epochs = 20\n",
        "batch_size = 1000\n",
        "label_name = 'median_house_value'\n",
        "\n",
        "my_model = create_model_dense_regularizatio(learning_rate, my_feature_layer)\n",
        "\n",
        "epochs, mse = train_deep_model(my_model, train_df_norm, epochs, label_name, batch_size)\n",
        "\n",
        "plot_the_loss_curve(epochs, mse)\n",
        "\n",
        "my_model.evaluate(x=test_feature, y=test_label, batch_size=batch_size)"
      ],
      "execution_count": 39,
      "outputs": [
        {
          "output_type": "stream",
          "text": [
            "Train on 17000 samples\n",
            "Epoch 1/20\n",
            "17000/17000 [==============================] - 1s 32us/sample - loss: 0.6016 - mean_squared_error: 0.5314\n",
            "Epoch 2/20\n",
            "17000/17000 [==============================] - 0s 4us/sample - loss: 0.4498 - mean_squared_error: 0.4032\n",
            "Epoch 3/20\n",
            "17000/17000 [==============================] - 0s 3us/sample - loss: 0.4459 - mean_squared_error: 0.4058\n",
            "Epoch 4/20\n",
            "17000/17000 [==============================] - 0s 4us/sample - loss: 0.4312 - mean_squared_error: 0.3950\n",
            "Epoch 5/20\n",
            "17000/17000 [==============================] - 0s 4us/sample - loss: 0.4298 - mean_squared_error: 0.3966\n",
            "Epoch 6/20\n",
            "17000/17000 [==============================] - 0s 4us/sample - loss: 0.4291 - mean_squared_error: 0.3975\n",
            "Epoch 7/20\n",
            "17000/17000 [==============================] - 0s 4us/sample - loss: 0.4246 - mean_squared_error: 0.3941\n",
            "Epoch 8/20\n",
            "17000/17000 [==============================] - 0s 4us/sample - loss: 0.4309 - mean_squared_error: 0.4012\n",
            "Epoch 9/20\n",
            "17000/17000 [==============================] - 0s 4us/sample - loss: 0.4193 - mean_squared_error: 0.3903\n",
            "Epoch 10/20\n",
            "17000/17000 [==============================] - 0s 4us/sample - loss: 0.4192 - mean_squared_error: 0.3914\n",
            "Epoch 11/20\n",
            "17000/17000 [==============================] - 0s 4us/sample - loss: 0.4223 - mean_squared_error: 0.3951\n",
            "Epoch 12/20\n",
            "17000/17000 [==============================] - 0s 4us/sample - loss: 0.4219 - mean_squared_error: 0.3950\n",
            "Epoch 13/20\n",
            "17000/17000 [==============================] - 0s 4us/sample - loss: 0.4190 - mean_squared_error: 0.3930\n",
            "Epoch 14/20\n",
            "17000/17000 [==============================] - 0s 4us/sample - loss: 0.4182 - mean_squared_error: 0.3925\n",
            "Epoch 15/20\n",
            "17000/17000 [==============================] - 0s 4us/sample - loss: 0.4181 - mean_squared_error: 0.3929\n",
            "Epoch 16/20\n",
            "17000/17000 [==============================] - 0s 3us/sample - loss: 0.4124 - mean_squared_error: 0.3877\n",
            "Epoch 17/20\n",
            "17000/17000 [==============================] - 0s 4us/sample - loss: 0.4102 - mean_squared_error: 0.3855\n",
            "Epoch 18/20\n",
            "17000/17000 [==============================] - 0s 4us/sample - loss: 0.4172 - mean_squared_error: 0.3934\n",
            "Epoch 19/20\n",
            "17000/17000 [==============================] - 0s 4us/sample - loss: 0.4158 - mean_squared_error: 0.3923\n",
            "Epoch 20/20\n",
            "17000/17000 [==============================] - 0s 4us/sample - loss: 0.4150 - mean_squared_error: 0.3915\n"
          ],
          "name": "stdout"
        },
        {
          "output_type": "display_data",
          "data": {
            "image/png": "[encoded data removed]",
            "text/plain": [
              "<Figure size 432x288 with 1 Axes>"
            ]
          },
          "metadata": {
            "tags": []
          }
        },
        {
          "output_type": "stream",
          "text": [
            "3000/3000 [==============================] - 0s 47us/sample - loss: 0.4046 - mean_squared_error: 0.3818\n"
          ],
          "name": "stdout"
        },
        {
          "output_type": "execute_result",
          "data": {
            "text/plain": [
              "[0.4046136836210887, 0.38184384]"
            ]
          },
          "metadata": {
            "tags": []
          },
          "execution_count": 39
        }
      ]
    }
  ]
}