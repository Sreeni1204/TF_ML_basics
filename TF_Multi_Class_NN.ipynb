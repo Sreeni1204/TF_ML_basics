{
  "nbformat": 4,
  "nbformat_minor": 0,
  "metadata": {
    "colab": {
      "name": "TF_Multi_Class_NN.ipynb",
      "provenance": [],
      "collapsed_sections": []
    },
    "kernelspec": {
      "name": "python3",
      "display_name": "Python 3"
    },
    "accelerator": "TPU"
  },
  "cells": [
    {
      "cell_type": "markdown",
      "metadata": {
        "id": "ScZR-T6gcC9a",
        "colab_type": "text"
      },
      "source": [
        "There are two kinds of multi class classification.\n",
        "\n",
        "1. One vs All multi class - Here we create a unique output for each possible class, here at each output node, check if the output belongs to a particular class. Sum of all probabilities of output node must be one.\n",
        "\n",
        "This can be achieved by using SoftMax activation function.\n",
        "\n",
        "Softmax assigns a decimal probabilities to multi class problem, these decimal probabilities must add upto 1.\n",
        "\n",
        "There are two options in softmax.\n",
        "\n",
        "1. Full Softmax - that is it assigns probabilities for all classes.\n",
        "2. candidate sampling - softmax calculates the probabilities for all positive classes and only a random samples of negetive labels. For example in case of determining if the given image is beagle or bloodhound, then softmax generates probabibilities for these two classes along with random number of non-dog classes.\n",
        "\n"
      ]
    },
    {
      "cell_type": "code",
      "metadata": {
        "id": "CiDeg6pB4brJ",
        "colab_type": "code",
        "colab": {
          "base_uri": "https://localhost:8080/",
          "height": 34
        },
        "outputId": "2fa80398-4f19-4594-c44a-5b8c232c2038"
      },
      "source": [
        "%tensorflow_version 2.x\n",
        "from __future__ import absolute_import, division, print_function, unicode_literals"
      ],
      "execution_count": 1,
      "outputs": [
        {
          "output_type": "stream",
          "text": [
            "TensorFlow 2.x selected.\n"
          ],
          "name": "stdout"
        }
      ]
    },
    {
      "cell_type": "code",
      "metadata": {
        "id": "0c-GY-rZ4eFI",
        "colab_type": "code",
        "colab": {}
      },
      "source": [
        "import numpy as np\n",
        "import pandas as pd\n",
        "import tensorflow as tf\n",
        "from tensorflow.keras import layers\n",
        "from matplotlib import pyplot as plt\n",
        "\n",
        "# The following lines adjust the granularity of reporting. \n",
        "pd.options.display.max_rows = 10\n",
        "pd.options.display.float_format = \"{:.1f}\".format\n",
        "\n",
        "# The following line improves formatting when ouputting NumPy arrays.\n",
        "np.set_printoptions(linewidth = 200)"
      ],
      "execution_count": 0,
      "outputs": []
    },
    {
      "cell_type": "code",
      "metadata": {
        "id": "tQEHGTqt40YV",
        "colab_type": "code",
        "colab": {}
      },
      "source": [
        "(x_train, y_train),(x_test,y_test) = tf.keras.datasets.mnist.load_data()"
      ],
      "execution_count": 0,
      "outputs": []
    },
    {
      "cell_type": "code",
      "metadata": {
        "id": "HaGmbUXk5BT5",
        "colab_type": "code",
        "colab": {
          "base_uri": "https://localhost:8080/",
          "height": 500
        },
        "outputId": "14f7a722-d42d-4a3b-aa13-5a4f809827c7"
      },
      "source": [
        "x_train[2197]"
      ],
      "execution_count": 7,
      "outputs": [
        {
          "output_type": "execute_result",
          "data": {
            "text/plain": [
              "array([[  0,   0,   0,   0,   0,   0,   0,   0,   0,   0,   0,   0,   0,   0,   0,   0,   0,   0,   0,   0,   0,   0,   0,   0,   0,   0,   0,   0],\n",
              "       [  0,   0,   0,   0,   0,   0,   0,   0,   0,   0,   0,   0,   0,   0,   0,   0,   0,   0,   0,   0,   0,   0,   0,   0,   0,   0,   0,   0],\n",
              "       [  0,   0,   0,   0,   0,   0,   0,   0,   0,   0,   0,   0,   0,   0,   0,   0,   0,   0,   0,   0,   0,   0,   0,   0,   0,   0,   0,   0],\n",
              "       [  0,   0,   0,   0,   0,   0,   0,   0,   0,   0,   0,   0,   0,   0,   0,   0,   0,   0,   0,   0,   0,   0,   0,   0,   0,   0,   0,   0],\n",
              "       [  0,   0,   0,   0,   0,   0,   0,   0,   0,   0,   0,   0,   0,   0,   0,   0,   0,   0,   0,   0,   0,   0,   0,   0,   0,   0,   0,   0],\n",
              "       [  0,   0,   0,   0,   0,   0,   0,   0,   0,   0,   0,   0,   0,  11, 213, 254,  50,   0,   0,   0,   0,   0,   0,   0,   0,   0,   0,   0],\n",
              "       [  0,   0,   0,   0,   0,   0,   0,   0,   0,   0,   0,   0,   0,  92, 252, 253, 131,   0,   0,   0,   0,   0,   0,   0,   0,   0,   0,   0],\n",
              "       [  0,   0,   0,   0,   0,   0,   0,   0,   0,   0,   0,   0,   0,  51, 253, 254, 213,   0,   0,   0,   0,   0,   0,   0,   0,   0,   0,   0],\n",
              "       [  0,   0,   0,   0,   0,   0,   0,   0,   0,   0,   0,   0,   0,  92, 252, 253, 252,  41,   0,   0,   0,   0,   0,   0,   0,   0,   0,   0],\n",
              "       [  0,   0,   0,   0,   0,   0,   0,   0,   0,   0,   0,   0,   0, 152, 253, 254, 253,   0,   0,   0,   0,   0,   0,   0,   0,   0,   0,   0],\n",
              "       [  0,   0,   0,   0,   0,   0,   0,   0,   0,   0,   0,   0,   0,  71, 252, 253, 252,   0,   0,   0,   0,   0,   0,   0,   0,   0,   0,   0],\n",
              "       [  0,   0,   0,   0,   0,   0,   0,   0,   0,   0,   0,   0,   0,  51, 253, 254, 253,   0,   0,   0,   0,   0,   0,   0,   0,   0,   0,   0],\n",
              "       [  0,   0,   0,   0,   0,   0,   0,   0,   0,   0,   0,   0,   0,  51, 252, 253, 252,   0,   0,   0,   0,   0,   0,   0,   0,   0,   0,   0],\n",
              "       [  0,   0,   0,   0,   0,   0,   0,   0,   0,   0,   0,   0,   0, 152, 253, 254, 192,   0,   0,   0,   0,   0,   0,   0,   0,   0,   0,   0],\n",
              "       [  0,   0,   0,   0,   0,   0,   0,   0,   0,   0,   0,   0,   0, 152, 252, 253, 151,   0,   0,   0,   0,   0,   0,   0,   0,   0,   0,   0],\n",
              "       [  0,   0,   0,   0,   0,   0,   0,   0,   0,   0,   0,   0,   0, 173, 253, 244,  40,   0,   0,   0,   0,   0,   0,   0,   0,   0,   0,   0],\n",
              "       [  0,   0,   0,   0,   0,   0,   0,   0,   0,   0,   0,   0,  41, 253, 252, 203,   0,   0,   0,   0,   0,   0,   0,   0,   0,   0,   0,   0],\n",
              "       [  0,   0,   0,   0,   0,   0,   0,   0,   0,   0,   0,   0, 203, 254, 253, 142,   0,   0,   0,   0,   0,   0,   0,   0,   0,   0,   0,   0],\n",
              "       [  0,   0,   0,   0,   0,   0,   0,   0,   0,   0,   0,   0, 203, 253, 252,  61,   0,   0,   0,   0,   0,   0,   0,   0,   0,   0,   0,   0],\n",
              "       [  0,   0,   0,   0,   0,   0,   0,   0,   0,   0,   0,   0, 203, 254, 192,   0,   0,   0,   0,   0,   0,   0,   0,   0,   0,   0,   0,   0],\n",
              "       [  0,   0,   0,   0,   0,   0,   0,   0,   0,   0,   0,   0, 203, 253, 151,   0,   0,   0,   0,   0,   0,   0,   0,   0,   0,   0,   0,   0],\n",
              "       [  0,   0,   0,   0,   0,   0,   0,   0,   0,   0,   0,   0, 204, 255, 151,   0,   0,   0,   0,   0,   0,   0,   0,   0,   0,   0,   0,   0],\n",
              "       [  0,   0,   0,   0,   0,   0,   0,   0,   0,   0,   0,   0, 203, 253, 151,   0,   0,   0,   0,   0,   0,   0,   0,   0,   0,   0,   0,   0],\n",
              "       [  0,   0,   0,   0,   0,   0,   0,   0,   0,   0,   0,   0, 204, 255, 253,  41,   0,   0,   0,   0,   0,   0,   0,   0,   0,   0,   0,   0],\n",
              "       [  0,   0,   0,   0,   0,   0,   0,   0,   0,   0,   0,   0, 162, 253, 252,   0,   0,   0,   0,   0,   0,   0,   0,   0,   0,   0,   0,   0],\n",
              "       [  0,   0,   0,   0,   0,   0,   0,   0,   0,   0,   0,   0,   0,   0,   0,   0,   0,   0,   0,   0,   0,   0,   0,   0,   0,   0,   0,   0],\n",
              "       [  0,   0,   0,   0,   0,   0,   0,   0,   0,   0,   0,   0,   0,   0,   0,   0,   0,   0,   0,   0,   0,   0,   0,   0,   0,   0,   0,   0],\n",
              "       [  0,   0,   0,   0,   0,   0,   0,   0,   0,   0,   0,   0,   0,   0,   0,   0,   0,   0,   0,   0,   0,   0,   0,   0,   0,   0,   0,   0]], dtype=uint8)"
            ]
          },
          "metadata": {
            "tags": []
          },
          "execution_count": 7
        }
      ]
    },
    {
      "cell_type": "code",
      "metadata": {
        "id": "e3xZmQVv5mTa",
        "colab_type": "code",
        "colab": {
          "base_uri": "https://localhost:8080/",
          "height": 282
        },
        "outputId": "98102342-199a-4ab8-c7d6-2eea2a643081"
      },
      "source": [
        "plt.imshow(x_train[2197])"
      ],
      "execution_count": 8,
      "outputs": [
        {
          "output_type": "execute_result",
          "data": {
            "text/plain": [
              "<matplotlib.image.AxesImage at 0x7f17b6a9b630>"
            ]
          },
          "metadata": {
            "tags": []
          },
          "execution_count": 8
        },
        {
          "output_type": "display_data",
          "data": {
            "image/png": "[encoded data removed]",
            "text/plain": [
              "<Figure size 432x288 with 1 Axes>"
            ]
          },
          "metadata": {
            "tags": []
          }
        }
      ]
    },
    {
      "cell_type": "code",
      "metadata": {
        "id": "4dEHeofX53aB",
        "colab_type": "code",
        "colab": {}
      },
      "source": [
        "# normalization\n",
        "\n",
        "x_train_normalized = (x_train / 255.0)\n",
        "x_test_normalized = (x_test / 255.0)"
      ],
      "execution_count": 0,
      "outputs": []
    },
    {
      "cell_type": "code",
      "metadata": {
        "id": "DSf9wibC6QEw",
        "colab_type": "code",
        "colab": {}
      },
      "source": [
        "def plot_curve(epochs, hist, list_of_metrics):\n",
        "  \"\"\"Plot a curve of one or more classification metrics vs. epoch.\"\"\"  \n",
        "  # list_of_metrics should be one of the names shown in:\n",
        "  # https://www.tensorflow.org/tutorials/structured_data/imbalanced_data#define_the_model_and_metrics  \n",
        "\n",
        "  plt.figure()\n",
        "  plt.xlabel(\"Epoch\")\n",
        "  plt.ylabel(\"Value\")\n",
        "\n",
        "  for m in list_of_metrics:\n",
        "    x = hist[m]\n",
        "    plt.plot(epochs[1:], x[1:], label=m)\n",
        "\n",
        "  plt.legend()"
      ],
      "execution_count": 0,
      "outputs": []
    },
    {
      "cell_type": "code",
      "metadata": {
        "id": "fJIDab9W6b-p",
        "colab_type": "code",
        "colab": {}
      },
      "source": [
        "def create_model(my_learning_rate):\n",
        "\n",
        "  model = tf.keras.Sequential()\n",
        "\n",
        "  model.add(tf.keras.layers.Flatten(input_shape=(28,28)))\n",
        "\n",
        "  model.add(tf.keras.layers.Dense(units = 256, activation = 'relu'))\n",
        "\n",
        "  model.add(tf.keras.layers.Dense(units=128, activation='relu'))\n",
        "\n",
        "  model.add(tf.keras.layers.Dropout(rate=0.2))\n",
        "\n",
        "  model.add(tf.keras.layers.Dense(units=10, activation='softmax'))\n",
        "\n",
        "  model.compile(optimizer=tf.keras.optimizers.Adam(my_learning_rate), loss=\"sparse_categorical_crossentropy\", metrics=['accuracy'])\n",
        "\n",
        "  return model"
      ],
      "execution_count": 0,
      "outputs": []
    },
    {
      "cell_type": "code",
      "metadata": {
        "id": "1_Bf5h3w8o5j",
        "colab_type": "code",
        "colab": {}
      },
      "source": [
        "def train_model(model, training_feature, train_label, epochs, batch_size=None, validation_split=0.1):\n",
        "\n",
        "  history = model.fit(x=training_feature, y=train_label, batch_size=batch_size, epochs=epochs, shuffle=True, validation_split=validation_split)\n",
        "\n",
        "  epochs = history.epoch\n",
        "  hist = pd.DataFrame(history.history)\n",
        "\n",
        "  return epochs, hist"
      ],
      "execution_count": 0,
      "outputs": []
    },
    {
      "cell_type": "code",
      "metadata": {
        "id": "yNFkPqI69xw3",
        "colab_type": "code",
        "colab": {
          "base_uri": "https://localhost:8080/",
          "height": 1000
        },
        "outputId": "97e0d449-8cb5-47b2-b57f-c5b3acdd0738"
      },
      "source": [
        "learning_rate = 0.003\n",
        "epochs = 50\n",
        "batch_size = 4000\n",
        "validation_split = 0.2\n",
        "\n",
        "my_model = create_model(learning_rate)\n",
        "\n",
        "epochs, hist = train_model(my_model, x_train_normalized, y_train, epochs, batch_size, validation_split)\n",
        "\n",
        "list_of_metrices_to_plot = ['accuracy']\n",
        "plot_curve(epochs, hist, list_of_metrices_to_plot)\n",
        "\n",
        "print(\"\\n Evaluate the new model against the test set:\")\n",
        "my_model.evaluate(x=x_test_normalized, y=y_test, batch_size=batch_size)"
      ],
      "execution_count": 22,
      "outputs": [
        {
          "output_type": "stream",
          "text": [
            "Train on 48000 samples, validate on 12000 samples\n",
            "Epoch 1/50\n",
            "48000/48000 [==============================] - 2s 34us/sample - loss: 1.0340 - accuracy: 0.6902 - val_loss: 0.3404 - val_accuracy: 0.9005\n",
            "Epoch 2/50\n",
            "48000/48000 [==============================] - 1s 27us/sample - loss: 0.3494 - accuracy: 0.8984 - val_loss: 0.2408 - val_accuracy: 0.9293\n",
            "Epoch 3/50\n",
            "48000/48000 [==============================] - 1s 27us/sample - loss: 0.2465 - accuracy: 0.9276 - val_loss: 0.1858 - val_accuracy: 0.9457\n",
            "Epoch 4/50\n",
            "48000/48000 [==============================] - 1s 27us/sample - loss: 0.1955 - accuracy: 0.9429 - val_loss: 0.1614 - val_accuracy: 0.9522\n",
            "Epoch 5/50\n",
            "48000/48000 [==============================] - 1s 27us/sample - loss: 0.1586 - accuracy: 0.9526 - val_loss: 0.1407 - val_accuracy: 0.9585\n",
            "Epoch 6/50\n",
            "48000/48000 [==============================] - 1s 27us/sample - loss: 0.1347 - accuracy: 0.9603 - val_loss: 0.1240 - val_accuracy: 0.9636\n",
            "Epoch 7/50\n",
            "48000/48000 [==============================] - 1s 27us/sample - loss: 0.1157 - accuracy: 0.9661 - val_loss: 0.1155 - val_accuracy: 0.9653\n",
            "Epoch 8/50\n",
            "48000/48000 [==============================] - 1s 27us/sample - loss: 0.1006 - accuracy: 0.9701 - val_loss: 0.1086 - val_accuracy: 0.9676\n",
            "Epoch 9/50\n",
            "48000/48000 [==============================] - 1s 27us/sample - loss: 0.0888 - accuracy: 0.9741 - val_loss: 0.1000 - val_accuracy: 0.9697\n",
            "Epoch 10/50\n",
            "48000/48000 [==============================] - 1s 27us/sample - loss: 0.0761 - accuracy: 0.9779 - val_loss: 0.0960 - val_accuracy: 0.9705\n",
            "Epoch 11/50\n",
            "48000/48000 [==============================] - 1s 27us/sample - loss: 0.0672 - accuracy: 0.9810 - val_loss: 0.0913 - val_accuracy: 0.9722\n",
            "Epoch 12/50\n",
            "48000/48000 [==============================] - 1s 27us/sample - loss: 0.0583 - accuracy: 0.9835 - val_loss: 0.0904 - val_accuracy: 0.9724\n",
            "Epoch 13/50\n",
            "48000/48000 [==============================] - 1s 27us/sample - loss: 0.0512 - accuracy: 0.9853 - val_loss: 0.0864 - val_accuracy: 0.9738\n",
            "Epoch 14/50\n",
            "48000/48000 [==============================] - 1s 28us/sample - loss: 0.0469 - accuracy: 0.9866 - val_loss: 0.0871 - val_accuracy: 0.9741\n",
            "Epoch 15/50\n",
            "48000/48000 [==============================] - 1s 27us/sample - loss: 0.0402 - accuracy: 0.9886 - val_loss: 0.0863 - val_accuracy: 0.9735\n",
            "Epoch 16/50\n",
            "48000/48000 [==============================] - 1s 28us/sample - loss: 0.0377 - accuracy: 0.9890 - val_loss: 0.0848 - val_accuracy: 0.9748\n",
            "Epoch 17/50\n",
            "48000/48000 [==============================] - 1s 27us/sample - loss: 0.0334 - accuracy: 0.9905 - val_loss: 0.0839 - val_accuracy: 0.9739\n",
            "Epoch 18/50\n",
            "48000/48000 [==============================] - 1s 27us/sample - loss: 0.0290 - accuracy: 0.9919 - val_loss: 0.0825 - val_accuracy: 0.9753\n",
            "Epoch 19/50\n",
            "48000/48000 [==============================] - 1s 27us/sample - loss: 0.0250 - accuracy: 0.9934 - val_loss: 0.0845 - val_accuracy: 0.9747\n",
            "Epoch 20/50\n",
            "48000/48000 [==============================] - 1s 27us/sample - loss: 0.0244 - accuracy: 0.9931 - val_loss: 0.0841 - val_accuracy: 0.9760\n",
            "Epoch 21/50\n",
            "48000/48000 [==============================] - 1s 27us/sample - loss: 0.0206 - accuracy: 0.9944 - val_loss: 0.0853 - val_accuracy: 0.9755\n",
            "Epoch 22/50\n",
            "48000/48000 [==============================] - 1s 27us/sample - loss: 0.0186 - accuracy: 0.9951 - val_loss: 0.0833 - val_accuracy: 0.9766\n",
            "Epoch 23/50\n",
            "48000/48000 [==============================] - 1s 27us/sample - loss: 0.0172 - accuracy: 0.9956 - val_loss: 0.0852 - val_accuracy: 0.9765\n",
            "Epoch 24/50\n",
            "48000/48000 [==============================] - 1s 28us/sample - loss: 0.0153 - accuracy: 0.9962 - val_loss: 0.0835 - val_accuracy: 0.9767\n",
            "Epoch 25/50\n",
            "48000/48000 [==============================] - 1s 27us/sample - loss: 0.0145 - accuracy: 0.9964 - val_loss: 0.0888 - val_accuracy: 0.9756\n",
            "Epoch 26/50\n",
            "48000/48000 [==============================] - 1s 27us/sample - loss: 0.0129 - accuracy: 0.9969 - val_loss: 0.0861 - val_accuracy: 0.9764\n",
            "Epoch 27/50\n",
            "48000/48000 [==============================] - 1s 27us/sample - loss: 0.0121 - accuracy: 0.9970 - val_loss: 0.0857 - val_accuracy: 0.9779\n",
            "Epoch 28/50\n",
            "48000/48000 [==============================] - 1s 27us/sample - loss: 0.0105 - accuracy: 0.9977 - val_loss: 0.0873 - val_accuracy: 0.9770\n",
            "Epoch 29/50\n",
            "48000/48000 [==============================] - 1s 27us/sample - loss: 0.0098 - accuracy: 0.9980 - val_loss: 0.0899 - val_accuracy: 0.9776\n",
            "Epoch 30/50\n",
            "48000/48000 [==============================] - 1s 27us/sample - loss: 0.0085 - accuracy: 0.9983 - val_loss: 0.0914 - val_accuracy: 0.9772\n",
            "Epoch 31/50\n",
            "48000/48000 [==============================] - 1s 27us/sample - loss: 0.0083 - accuracy: 0.9984 - val_loss: 0.0939 - val_accuracy: 0.9762\n",
            "Epoch 32/50\n",
            "48000/48000 [==============================] - 1s 28us/sample - loss: 0.0080 - accuracy: 0.9984 - val_loss: 0.0929 - val_accuracy: 0.9768\n",
            "Epoch 33/50\n",
            "48000/48000 [==============================] - 1s 27us/sample - loss: 0.0070 - accuracy: 0.9987 - val_loss: 0.0927 - val_accuracy: 0.9768\n",
            "Epoch 34/50\n",
            "48000/48000 [==============================] - 1s 27us/sample - loss: 0.0067 - accuracy: 0.9986 - val_loss: 0.0920 - val_accuracy: 0.9787\n",
            "Epoch 35/50\n",
            "48000/48000 [==============================] - 1s 27us/sample - loss: 0.0060 - accuracy: 0.9987 - val_loss: 0.0942 - val_accuracy: 0.9779\n",
            "Epoch 36/50\n",
            "48000/48000 [==============================] - 1s 27us/sample - loss: 0.0060 - accuracy: 0.9988 - val_loss: 0.0930 - val_accuracy: 0.9777\n",
            "Epoch 37/50\n",
            "48000/48000 [==============================] - 1s 28us/sample - loss: 0.0053 - accuracy: 0.9990 - val_loss: 0.0945 - val_accuracy: 0.9773\n",
            "Epoch 38/50\n",
            "48000/48000 [==============================] - 1s 27us/sample - loss: 0.0048 - accuracy: 0.9991 - val_loss: 0.0950 - val_accuracy: 0.9776\n",
            "Epoch 39/50\n",
            "48000/48000 [==============================] - 1s 27us/sample - loss: 0.0052 - accuracy: 0.9990 - val_loss: 0.0972 - val_accuracy: 0.9773\n",
            "Epoch 40/50\n",
            "48000/48000 [==============================] - 1s 27us/sample - loss: 0.0047 - accuracy: 0.9991 - val_loss: 0.0964 - val_accuracy: 0.9775\n",
            "Epoch 41/50\n",
            "48000/48000 [==============================] - 1s 27us/sample - loss: 0.0044 - accuracy: 0.9991 - val_loss: 0.0991 - val_accuracy: 0.9775\n",
            "Epoch 42/50\n",
            "48000/48000 [==============================] - 1s 30us/sample - loss: 0.0038 - accuracy: 0.9993 - val_loss: 0.0979 - val_accuracy: 0.9774\n",
            "Epoch 43/50\n",
            "48000/48000 [==============================] - 1s 27us/sample - loss: 0.0038 - accuracy: 0.9993 - val_loss: 0.0979 - val_accuracy: 0.9778\n",
            "Epoch 44/50\n",
            "48000/48000 [==============================] - 1s 29us/sample - loss: 0.0037 - accuracy: 0.9993 - val_loss: 0.1008 - val_accuracy: 0.9778\n",
            "Epoch 45/50\n",
            "48000/48000 [==============================] - 1s 27us/sample - loss: 0.0037 - accuracy: 0.9993 - val_loss: 0.1044 - val_accuracy: 0.9780\n",
            "Epoch 46/50\n",
            "48000/48000 [==============================] - 2s 31us/sample - loss: 0.0035 - accuracy: 0.9993 - val_loss: 0.1003 - val_accuracy: 0.9789\n",
            "Epoch 47/50\n",
            "48000/48000 [==============================] - 1s 27us/sample - loss: 0.0032 - accuracy: 0.9994 - val_loss: 0.1015 - val_accuracy: 0.9772\n",
            "Epoch 48/50\n",
            "48000/48000 [==============================] - 2s 34us/sample - loss: 0.0028 - accuracy: 0.9996 - val_loss: 0.1031 - val_accuracy: 0.9778\n",
            "Epoch 49/50\n",
            "48000/48000 [==============================] - 1s 28us/sample - loss: 0.0025 - accuracy: 0.9996 - val_loss: 0.1031 - val_accuracy: 0.9779\n",
            "Epoch 50/50\n",
            "48000/48000 [==============================] - 1s 27us/sample - loss: 0.0028 - accuracy: 0.9995 - val_loss: 0.1031 - val_accuracy: 0.9777\n",
            "\n",
            " Evaluate the new model against the test set:\n",
            "10000/10000 [==============================] - 0s 19us/sample - loss: 0.0853 - accuracy: 0.9792\n"
          ],
          "name": "stdout"
        },
        {
          "output_type": "execute_result",
          "data": {
            "text/plain": [
              "[0.08529272228479386, 0.9792]"
            ]
          },
          "metadata": {
            "tags": []
          },
          "execution_count": 22
        },
        {
          "output_type": "display_data",
          "data": {
            "image/png": "[encoded data removed]",
            "text/plain": [
              "<Figure size 432x288 with 1 Axes>"
            ]
          },
          "metadata": {
            "tags": []
          }
        }
      ]
    }
  ]
}