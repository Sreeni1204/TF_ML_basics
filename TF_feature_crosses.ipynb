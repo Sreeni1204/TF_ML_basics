{
  "nbformat": 4,
  "nbformat_minor": 0,
  "metadata": {
    "colab": {
      "name": "TF_feature_crosses.ipynb",
      "provenance": [],
      "collapsed_sections": []
    },
    "kernelspec": {
      "name": "python3",
      "display_name": "Python 3"
    },
    "accelerator": "GPU"
  },
  "cells": [
    {
      "cell_type": "markdown",
      "metadata": {
        "id": "W5nSI5CGkZNi",
        "colab_type": "text"
      },
      "source": [
        "A feature cross is a synthetic feature, created by multiplying two or more features.\n",
        "\n",
        "This helps in learning highly complex models.\n",
        "\n",
        "A feature cross is a synthetic feature that encodes non linearity into feature space by multiplying two or more features."
      ]
    },
    {
      "cell_type": "code",
      "metadata": {
        "id": "hXMelEyirvdD",
        "colab_type": "code",
        "colab": {}
      },
      "source": [
        "from __future__ import print_function\n",
        "\n",
        "import math\n",
        "\n",
        "from IPython import display\n",
        "from matplotlib import cm\n",
        "from matplotlib import gridspec\n",
        "from matplotlib import pyplot as plt\n",
        "import numpy as np\n",
        "import pandas as pd\n",
        "from sklearn import metrics\n",
        "%tensorflow_version 1.x\n",
        "import tensorflow as tf\n",
        "from tensorflow.python.data import Dataset\n",
        "\n",
        "tf.logging.set_verbosity(tf.logging.ERROR)\n",
        "pd.options.display.max_rows = 10\n",
        "pd.options.display.float_format = '{:.1f}'.format"
      ],
      "execution_count": 0,
      "outputs": []
    },
    {
      "cell_type": "code",
      "metadata": {
        "id": "1M8P7cX4s2CJ",
        "colab_type": "code",
        "outputId": "f51f3c91-3e28-466a-bbd3-cab9031f2efa",
        "colab": {
          "base_uri": "https://localhost:8080/",
          "height": 196
        }
      },
      "source": [
        "california_housing_dataframe = pd.read_csv('https://download.mlcc.google.com/mledu-datasets/california_housing_train.csv', sep=',')\n",
        "\n",
        "california_housing_dataframe = california_housing_dataframe.reindex(np.random.permutation(california_housing_dataframe.index))\n",
        "california_housing_dataframe.head()"
      ],
      "execution_count": 11,
      "outputs": [
        {
          "output_type": "execute_result",
          "data": {
            "text/html": [
              "<div>\n",
              "<style scoped>\n",
              "    .dataframe tbody tr th:only-of-type {\n",
              "        vertical-align: middle;\n",
              "    }\n",
              "\n",
              "    .dataframe tbody tr th {\n",
              "        vertical-align: top;\n",
              "    }\n",
              "\n",
              "    .dataframe thead th {\n",
              "        text-align: right;\n",
              "    }\n",
              "</style>\n",
              "<table border=\"1\" class=\"dataframe\">\n",
              "  <thead>\n",
              "    <tr style=\"text-align: right;\">\n",
              "      <th></th>\n",
              "      <th>longitude</th>\n",
              "      <th>latitude</th>\n",
              "      <th>housing_median_age</th>\n",
              "      <th>total_rooms</th>\n",
              "      <th>total_bedrooms</th>\n",
              "      <th>population</th>\n",
              "      <th>households</th>\n",
              "      <th>median_income</th>\n",
              "      <th>median_house_value</th>\n",
              "    </tr>\n",
              "  </thead>\n",
              "  <tbody>\n",
              "    <tr>\n",
              "      <th>12063</th>\n",
              "      <td>-121.4</td>\n",
              "      <td>38.5</td>\n",
              "      <td>36.0</td>\n",
              "      <td>1581.0</td>\n",
              "      <td>288.0</td>\n",
              "      <td>832.0</td>\n",
              "      <td>291.0</td>\n",
              "      <td>3.4</td>\n",
              "      <td>71800.0</td>\n",
              "    </tr>\n",
              "    <tr>\n",
              "      <th>11651</th>\n",
              "      <td>-121.3</td>\n",
              "      <td>38.0</td>\n",
              "      <td>48.0</td>\n",
              "      <td>1778.0</td>\n",
              "      <td>541.0</td>\n",
              "      <td>1237.0</td>\n",
              "      <td>462.0</td>\n",
              "      <td>1.3</td>\n",
              "      <td>103100.0</td>\n",
              "    </tr>\n",
              "    <tr>\n",
              "      <th>2775</th>\n",
              "      <td>-117.7</td>\n",
              "      <td>33.5</td>\n",
              "      <td>21.0</td>\n",
              "      <td>2208.0</td>\n",
              "      <td>534.0</td>\n",
              "      <td>1423.0</td>\n",
              "      <td>482.0</td>\n",
              "      <td>3.6</td>\n",
              "      <td>305600.0</td>\n",
              "    </tr>\n",
              "    <tr>\n",
              "      <th>6625</th>\n",
              "      <td>-118.3</td>\n",
              "      <td>34.0</td>\n",
              "      <td>23.0</td>\n",
              "      <td>1983.0</td>\n",
              "      <td>611.0</td>\n",
              "      <td>2048.0</td>\n",
              "      <td>600.0</td>\n",
              "      <td>1.5</td>\n",
              "      <td>91400.0</td>\n",
              "    </tr>\n",
              "    <tr>\n",
              "      <th>9857</th>\n",
              "      <td>-119.7</td>\n",
              "      <td>36.7</td>\n",
              "      <td>18.0</td>\n",
              "      <td>8099.0</td>\n",
              "      <td>1670.0</td>\n",
              "      <td>4476.0</td>\n",
              "      <td>1514.0</td>\n",
              "      <td>2.5</td>\n",
              "      <td>88300.0</td>\n",
              "    </tr>\n",
              "  </tbody>\n",
              "</table>\n",
              "</div>"
            ],
            "text/plain": [
              "       longitude  latitude  ...  median_income  median_house_value\n",
              "12063     -121.4      38.5  ...            3.4             71800.0\n",
              "11651     -121.3      38.0  ...            1.3            103100.0\n",
              "2775      -117.7      33.5  ...            3.6            305600.0\n",
              "6625      -118.3      34.0  ...            1.5             91400.0\n",
              "9857      -119.7      36.7  ...            2.5             88300.0\n",
              "\n",
              "[5 rows x 9 columns]"
            ]
          },
          "metadata": {
            "tags": []
          },
          "execution_count": 11
        }
      ]
    },
    {
      "cell_type": "code",
      "metadata": {
        "id": "JzMjPQM2tM0U",
        "colab_type": "code",
        "colab": {}
      },
      "source": [
        "def preprocess_features(cfd):\n",
        "\n",
        "  selected_features = cfd[[\"latitude\",\"longitude\",\"housing_median_age\",\"total_rooms\", \"total_bedrooms\",\"population\",\"households\",\"median_income\"]]\n",
        "\n",
        "  processed_features = selected_features.copy()\n",
        "\n",
        "  processed_features['rooms_per_person'] = cfd['total_rooms'] / cfd['population']\n",
        "\n",
        "  return processed_features"
      ],
      "execution_count": 0,
      "outputs": []
    },
    {
      "cell_type": "code",
      "metadata": {
        "id": "X8pxR-3KuE20",
        "colab_type": "code",
        "colab": {}
      },
      "source": [
        "def preprocess_targets(cfd):\n",
        "\n",
        "  target = pd.DataFrame()\n",
        "  target['median_house_value'] = cfd['median_house_value'] / 1000.0\n",
        "\n",
        "  return target"
      ],
      "execution_count": 0,
      "outputs": []
    },
    {
      "cell_type": "code",
      "metadata": {
        "id": "ZI5I5HCiucn3",
        "colab_type": "code",
        "colab": {}
      },
      "source": [
        "training_example = preprocess_features(california_housing_dataframe.head(12000))\n",
        "training_target = preprocess_targets(california_housing_dataframe.head(12000))\n",
        "\n",
        "validation_examples = preprocess_features(california_housing_dataframe.tail(5000))\n",
        "validation_targets = preprocess_targets(california_housing_dataframe.tail(5000))"
      ],
      "execution_count": 0,
      "outputs": []
    },
    {
      "cell_type": "code",
      "metadata": {
        "id": "2kwOEsZxuyz2",
        "colab_type": "code",
        "colab": {}
      },
      "source": [
        "def creating_feature_column(input_feature):\n",
        "\n",
        "  return set([tf.feature_column.numeric_column(my_feature) for my_feature in input_feature])"
      ],
      "execution_count": 0,
      "outputs": []
    },
    {
      "cell_type": "code",
      "metadata": {
        "id": "lmO-EZGPvDmJ",
        "colab_type": "code",
        "colab": {}
      },
      "source": [
        "def my_input_fn(features, targets, batch_size=1, shuffle=True, epochs=None):\n",
        "\n",
        "  features = {key:np.array(value) for key,value in dict(features).items()}\n",
        "\n",
        "  ds = Dataset.from_tensor_slices((features, targets))\n",
        "  ds = ds.batch(batch_size).repeat(epochs)\n",
        "\n",
        "  if shuffle:\n",
        "    ds = ds.shuffle(10000)\n",
        "\n",
        "  feature, target = ds.make_one_shot_iterator().get_next()\n",
        "\n",
        "  return feature, target"
      ],
      "execution_count": 0,
      "outputs": []
    },
    {
      "cell_type": "code",
      "metadata": {
        "id": "ZWFWPcRAv8k7",
        "colab_type": "code",
        "colab": {}
      },
      "source": [
        "def train_model(learning_rate, steps, batch_size, feature_columns, training_example, training_target, validation_example, validation_targets):\n",
        "\n",
        "  periods = 10\n",
        "  steps_per_period = steps / periods\n",
        "\n",
        "  my_optimizer = tf.train.FtrlOptimizer(learning_rate)\n",
        "  my_optimizer = tf.contrib.estimator.clip_gradients_by_norm(my_optimizer, 5.0)\n",
        "  linear_regressor = tf.estimator.LinearRegressor(feature_columns=feature_columns, optimizer=my_optimizer)\n",
        "\n",
        "  training_input_fn = lambda: my_input_fn(training_example, training_target['median_house_value'], batch_size=batch_size)\n",
        "  predict_training_input_fn = lambda: my_input_fn(training_example, training_target['median_house_value'],shuffle=False, epochs=1)\n",
        "  predict_validation_input_fn = lambda: my_input_fn(validation_examples, validation_targets['median_house_value'], shuffle=False, epochs=1)\n",
        "\n",
        "  print('training begins')\n",
        "  print('RMSE on training data')\n",
        "  training_RMSE = []\n",
        "  validation_RMSE = []\n",
        "  for period in range(periods):\n",
        "\n",
        "\n",
        "    linear_regressor.train(input_fn=training_input_fn, steps=steps_per_period)\n",
        "\n",
        "    prediction_training = linear_regressor.predict(predict_training_input_fn)\n",
        "    prediction_training = np.array([item['predictions'][0] for item in prediction_training])\n",
        "\n",
        "    prediction_validation = linear_regressor.predict(predict_validation_input_fn)\n",
        "    prediction_validation = np.array([item['predictions'][0] for item in prediction_validation])\n",
        "\n",
        "    rmse_training = math.sqrt(metrics.mean_squared_error(prediction_training, training_target))\n",
        "    print(\"  period %02d training rmse : %0.2f\" % (period, rmse_training))\n",
        "\n",
        "    rmse_validation = math.sqrt(metrics.mean_squared_error(prediction_validation, validation_targets))\n",
        "    print(\"  period %02d validation rmse : %0.2f\" % (period, rmse_validation))\n",
        "\n",
        "    training_RMSE.append(rmse_training)\n",
        "    validation_RMSE.append(rmse_validation)\n",
        "\n",
        "  print('training complete')\n",
        "\n",
        "  plt.ylabel(\"RMSE\")\n",
        "  plt.xlabel(\"Periods\")\n",
        "  plt.title(\"Root Mean Squared Error vs. Periods\")\n",
        "  plt.tight_layout()\n",
        "  plt.plot(training_RMSE, label=\"training\")\n",
        "  plt.plot(validation_RMSE, label=\"validation\")\n",
        "  plt.legend()\n",
        "\n",
        "  return linear_regressor"
      ],
      "execution_count": 0,
      "outputs": []
    },
    {
      "cell_type": "code",
      "metadata": {
        "id": "oV8aBCbO0xxe",
        "colab_type": "code",
        "outputId": "93fc054e-f8ae-4af8-924f-891e06061dd1",
        "colab": {
          "base_uri": "https://localhost:8080/",
          "height": 700
        }
      },
      "source": [
        "linear_regressor = train_model(0.001, 500, 5, creating_feature_column(training_example), training_example, training_target, validation_examples, validation_targets)"
      ],
      "execution_count": 18,
      "outputs": [
        {
          "output_type": "stream",
          "text": [
            "training begins\n",
            "RMSE on training data\n",
            "  period 00 training rmse : 188.24\n",
            "  period 00 validation rmse : 189.68\n",
            "  period 01 training rmse : 175.19\n",
            "  period 01 validation rmse : 176.82\n",
            "  period 02 training rmse : 168.25\n",
            "  period 02 validation rmse : 170.14\n",
            "  period 03 training rmse : 165.67\n",
            "  period 03 validation rmse : 167.75\n",
            "  period 04 training rmse : 164.31\n",
            "  period 04 validation rmse : 166.62\n",
            "  period 05 training rmse : 164.07\n",
            "  period 05 validation rmse : 166.57\n",
            "  period 06 training rmse : 164.12\n",
            "  period 06 validation rmse : 166.68\n",
            "  period 07 training rmse : 164.48\n",
            "  period 07 validation rmse : 167.17\n",
            "  period 08 training rmse : 165.06\n",
            "  period 08 validation rmse : 167.86\n",
            "  period 09 training rmse : 165.41\n",
            "  period 09 validation rmse : 168.26\n",
            "training complete\n"
          ],
          "name": "stdout"
        },
        {
          "output_type": "display_data",
          "data": {
            "image/png": "[encoded data removed]",
            "text/plain": [
              "<Figure size 432x288 with 1 Axes>"
            ]
          },
          "metadata": {
            "tags": []
          }
        }
      ]
    },
    {
      "cell_type": "code",
      "metadata": {
        "id": "MjGRlz38spgz",
        "colab_type": "code",
        "colab": {}
      },
      "source": [
        "def get_quantiled_based_boundaries(feature_values, num_buckets):\n",
        "\n",
        "  boundaries = np.arange(1.0, num_buckets) / num_buckets\n",
        "  quantiles = feature_values.quantile(boundaries)\n",
        "\n",
        "  return [quantiles[q] for q in quantiles.keys()] "
      ],
      "execution_count": 0,
      "outputs": []
    },
    {
      "cell_type": "code",
      "metadata": {
        "id": "fJ7BBTV2yZU0",
        "colab_type": "code",
        "colab": {
          "base_uri": "https://localhost:8080/",
          "height": 196
        },
        "outputId": "9ef79184-a63a-438c-dc64-6ae4077e569c"
      },
      "source": [
        "california_housing_dataframe.head()"
      ],
      "execution_count": 20,
      "outputs": [
        {
          "output_type": "execute_result",
          "data": {
            "text/html": [
              "<div>\n",
              "<style scoped>\n",
              "    .dataframe tbody tr th:only-of-type {\n",
              "        vertical-align: middle;\n",
              "    }\n",
              "\n",
              "    .dataframe tbody tr th {\n",
              "        vertical-align: top;\n",
              "    }\n",
              "\n",
              "    .dataframe thead th {\n",
              "        text-align: right;\n",
              "    }\n",
              "</style>\n",
              "<table border=\"1\" class=\"dataframe\">\n",
              "  <thead>\n",
              "    <tr style=\"text-align: right;\">\n",
              "      <th></th>\n",
              "      <th>longitude</th>\n",
              "      <th>latitude</th>\n",
              "      <th>housing_median_age</th>\n",
              "      <th>total_rooms</th>\n",
              "      <th>total_bedrooms</th>\n",
              "      <th>population</th>\n",
              "      <th>households</th>\n",
              "      <th>median_income</th>\n",
              "      <th>median_house_value</th>\n",
              "    </tr>\n",
              "  </thead>\n",
              "  <tbody>\n",
              "    <tr>\n",
              "      <th>12063</th>\n",
              "      <td>-121.4</td>\n",
              "      <td>38.5</td>\n",
              "      <td>36.0</td>\n",
              "      <td>1581.0</td>\n",
              "      <td>288.0</td>\n",
              "      <td>832.0</td>\n",
              "      <td>291.0</td>\n",
              "      <td>3.4</td>\n",
              "      <td>71800.0</td>\n",
              "    </tr>\n",
              "    <tr>\n",
              "      <th>11651</th>\n",
              "      <td>-121.3</td>\n",
              "      <td>38.0</td>\n",
              "      <td>48.0</td>\n",
              "      <td>1778.0</td>\n",
              "      <td>541.0</td>\n",
              "      <td>1237.0</td>\n",
              "      <td>462.0</td>\n",
              "      <td>1.3</td>\n",
              "      <td>103100.0</td>\n",
              "    </tr>\n",
              "    <tr>\n",
              "      <th>2775</th>\n",
              "      <td>-117.7</td>\n",
              "      <td>33.5</td>\n",
              "      <td>21.0</td>\n",
              "      <td>2208.0</td>\n",
              "      <td>534.0</td>\n",
              "      <td>1423.0</td>\n",
              "      <td>482.0</td>\n",
              "      <td>3.6</td>\n",
              "      <td>305600.0</td>\n",
              "    </tr>\n",
              "    <tr>\n",
              "      <th>6625</th>\n",
              "      <td>-118.3</td>\n",
              "      <td>34.0</td>\n",
              "      <td>23.0</td>\n",
              "      <td>1983.0</td>\n",
              "      <td>611.0</td>\n",
              "      <td>2048.0</td>\n",
              "      <td>600.0</td>\n",
              "      <td>1.5</td>\n",
              "      <td>91400.0</td>\n",
              "    </tr>\n",
              "    <tr>\n",
              "      <th>9857</th>\n",
              "      <td>-119.7</td>\n",
              "      <td>36.7</td>\n",
              "      <td>18.0</td>\n",
              "      <td>8099.0</td>\n",
              "      <td>1670.0</td>\n",
              "      <td>4476.0</td>\n",
              "      <td>1514.0</td>\n",
              "      <td>2.5</td>\n",
              "      <td>88300.0</td>\n",
              "    </tr>\n",
              "  </tbody>\n",
              "</table>\n",
              "</div>"
            ],
            "text/plain": [
              "       longitude  latitude  ...  median_income  median_house_value\n",
              "12063     -121.4      38.5  ...            3.4             71800.0\n",
              "11651     -121.3      38.0  ...            1.3            103100.0\n",
              "2775      -117.7      33.5  ...            3.6            305600.0\n",
              "6625      -118.3      34.0  ...            1.5             91400.0\n",
              "9857      -119.7      36.7  ...            2.5             88300.0\n",
              "\n",
              "[5 rows x 9 columns]"
            ]
          },
          "metadata": {
            "tags": []
          },
          "execution_count": 20
        }
      ]
    },
    {
      "cell_type": "code",
      "metadata": {
        "id": "VUkHK1Upxzuy",
        "colab_type": "code",
        "colab": {}
      },
      "source": [
        "def construct_feature_colums():\n",
        "  '''\n",
        "  constructs feature column based on bucketized feature columns\n",
        "  '''\n",
        "\n",
        "  households = tf.feature_column.numeric_column('households')\n",
        "  longitude = tf.feature_column.numeric_column('longitude')\n",
        "  latitude = tf.feature_column.numeric_column('latitude')\n",
        "  housing_median_age = tf.feature_column.numeric_column('housing_median_age')\n",
        "  median_income\t= tf.feature_column.numeric_column('median_income')\n",
        "  rooms_per_person = tf.feature_column.numeric_column('rooms_per_person')\n",
        "\n",
        "  # create bucketized columns based on boundaries\n",
        "  bucketized_households = tf.feature_column.bucketized_column(households, boundaries=get_quantiled_based_boundaries(training_example['households'], 7))\n",
        "  bucketized_longitude = tf.feature_column.bucketized_column(longitude, boundaries=get_quantiled_based_boundaries(training_example['longitude'], 10))\n",
        "  bucketized_latitude = tf.feature_column.bucketized_column(latitude, get_quantiled_based_boundaries(training_example['latitude'], 10))\n",
        "  bucketized_houseing_median_age = tf.feature_column.bucketized_column(housing_median_age, get_quantiled_based_boundaries(training_example['housing_median_age'], 7))\n",
        "  bucketized_median_income = tf.feature_column.bucketized_column(median_income, get_quantiled_based_boundaries(training_example['median_income'], 7))\n",
        "  bucketized_rooms_per_person = tf.feature_column.bucketized_column(rooms_per_person, get_quantiled_based_boundaries(training_example['rooms_per_person'], 7))\n",
        "\n",
        "  feature_columns = set([bucketized_longitude, bucketized_latitude, bucketized_houseing_median_age, bucketized_households, bucketized_median_income, bucketized_rooms_per_person])\n",
        "\n",
        "  return feature_columns  "
      ],
      "execution_count": 0,
      "outputs": []
    },
    {
      "cell_type": "code",
      "metadata": {
        "id": "ApZ15ecL1Y9d",
        "colab_type": "code",
        "colab": {
          "base_uri": "https://localhost:8080/",
          "height": 700
        },
        "outputId": "d8d0c5a6-9897-4375-b44a-13759f835d95"
      },
      "source": [
        "linear_regressor = train_model(1.0, 500, 100, construct_feature_colums(), training_example, training_target, validation_examples, validation_targets)"
      ],
      "execution_count": 31,
      "outputs": [
        {
          "output_type": "stream",
          "text": [
            "training begins\n",
            "RMSE on training data\n",
            "  period 00 training rmse : 169.35\n",
            "  period 00 validation rmse : 170.40\n",
            "  period 01 training rmse : 143.24\n",
            "  period 01 validation rmse : 143.90\n",
            "  period 02 training rmse : 126.91\n",
            "  period 02 validation rmse : 127.23\n",
            "  period 03 training rmse : 115.84\n",
            "  period 03 validation rmse : 115.88\n",
            "  period 04 training rmse : 107.94\n",
            "  period 04 validation rmse : 107.76\n",
            "  period 05 training rmse : 102.17\n",
            "  period 05 validation rmse : 101.87\n",
            "  period 06 training rmse : 97.70\n",
            "  period 06 validation rmse : 97.33\n",
            "  period 07 training rmse : 94.15\n",
            "  period 07 validation rmse : 93.77\n",
            "  period 08 training rmse : 91.21\n",
            "  period 08 validation rmse : 90.83\n",
            "  period 09 training rmse : 88.72\n",
            "  period 09 validation rmse : 88.36\n",
            "training complete\n"
          ],
          "name": "stdout"
        },
        {
          "output_type": "display_data",
          "data": {
            "image/png": "[encoded data removed]",
            "text/plain": [
              "<Figure size 432x288 with 1 Axes>"
            ]
          },
          "metadata": {
            "tags": []
          }
        }
      ]
    },
    {
      "cell_type": "code",
      "metadata": {
        "id": "MRprO8AE9qj6",
        "colab_type": "code",
        "colab": {}
      },
      "source": [
        "def construct_feature_colums_cross_feature():\n",
        "  '''\n",
        "  constructs feature column based on bucketized feature columns\n",
        "  '''\n",
        "\n",
        "  households = tf.feature_column.numeric_column('households')\n",
        "  longitude = tf.feature_column.numeric_column('longitude')\n",
        "  latitude = tf.feature_column.numeric_column('latitude')\n",
        "  housing_median_age = tf.feature_column.numeric_column('housing_median_age')\n",
        "  median_income\t= tf.feature_column.numeric_column('median_income')\n",
        "  rooms_per_person = tf.feature_column.numeric_column('rooms_per_person')\n",
        "\n",
        "  # create bucketized columns based on boundaries\n",
        "  bucketized_households = tf.feature_column.bucketized_column(households, boundaries=get_quantiled_based_boundaries(training_example['households'], 7))\n",
        "  bucketized_longitude = tf.feature_column.bucketized_column(longitude, boundaries=get_quantiled_based_boundaries(training_example['longitude'], 10))\n",
        "  bucketized_latitude = tf.feature_column.bucketized_column(latitude, get_quantiled_based_boundaries(training_example['latitude'], 10))\n",
        "  bucketized_houseing_median_age = tf.feature_column.bucketized_column(housing_median_age, get_quantiled_based_boundaries(training_example['housing_median_age'], 7))\n",
        "  bucketized_median_income = tf.feature_column.bucketized_column(median_income, get_quantiled_based_boundaries(training_example['median_income'], 7))\n",
        "  bucketized_rooms_per_person = tf.feature_column.bucketized_column(rooms_per_person, get_quantiled_based_boundaries(training_example['rooms_per_person'], 7))\n",
        "  long_x_lat = tf.feature_column.crossed_column(set([bucketized_longitude, bucketized_latitude]), hash_bucket_size=1000)\n",
        "\n",
        "  feature_columns = set([bucketized_longitude, bucketized_latitude, bucketized_houseing_median_age, bucketized_households, bucketized_median_income, bucketized_rooms_per_person, long_x_lat])\n",
        "\n",
        "  return feature_columns  "
      ],
      "execution_count": 0,
      "outputs": []
    },
    {
      "cell_type": "code",
      "metadata": {
        "id": "Nboa2CtK-M4E",
        "colab_type": "code",
        "colab": {
          "base_uri": "https://localhost:8080/",
          "height": 700
        },
        "outputId": "c6689ccf-159d-4b52-9e8a-42c421bbd2ee"
      },
      "source": [
        "linear_regressor = train_model(1.0, 500, 100, construct_feature_colums_cross_feature(), training_example, training_target, validation_examples, validation_targets)"
      ],
      "execution_count": 34,
      "outputs": [
        {
          "output_type": "stream",
          "text": [
            "training begins\n",
            "RMSE on training data\n",
            "  period 00 training rmse : 163.08\n",
            "  period 00 validation rmse : 164.05\n",
            "  period 01 training rmse : 134.91\n",
            "  period 01 validation rmse : 135.39\n",
            "  period 02 training rmse : 117.89\n",
            "  period 02 validation rmse : 117.94\n",
            "  period 03 training rmse : 106.70\n",
            "  period 03 validation rmse : 106.48\n",
            "  period 04 training rmse : 98.82\n",
            "  period 04 validation rmse : 98.45\n",
            "  period 05 training rmse : 92.86\n",
            "  period 05 validation rmse : 92.45\n",
            "  period 06 training rmse : 88.39\n",
            "  period 06 validation rmse : 87.97\n",
            "  period 07 training rmse : 84.82\n",
            "  period 07 validation rmse : 84.46\n",
            "  period 08 training rmse : 81.87\n",
            "  period 08 validation rmse : 81.56\n",
            "  period 09 training rmse : 79.52\n",
            "  period 09 validation rmse : 79.28\n",
            "training complete\n"
          ],
          "name": "stdout"
        },
        {
          "output_type": "display_data",
          "data": {
            "image/png": "[encoded data removed]",
            "text/plain": [
              "<Figure size 432x288 with 1 Axes>"
            ]
          },
          "metadata": {
            "tags": []
          }
        }
      ]
    }
  ]
}