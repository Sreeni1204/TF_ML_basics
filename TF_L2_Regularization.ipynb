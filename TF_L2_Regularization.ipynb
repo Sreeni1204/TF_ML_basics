{
  "nbformat": 4,
  "nbformat_minor": 0,
  "metadata": {
    "colab": {
      "name": "TF_L2_Regularization.ipynb",
      "provenance": [],
      "collapsed_sections": []
    },
    "kernelspec": {
      "name": "python3",
      "display_name": "Python 3"
    },
    "accelerator": "TPU"
  },
  "cells": [
    {
      "cell_type": "markdown",
      "metadata": {
        "id": "8ipiM-B4dGBV",
        "colab_type": "text"
      },
      "source": [
        "In general, looking at the generalization curves, that is the training loss and the validation loss curves, if the training loss keeps decreasing and converges but the validation curve decreases upto some level and then increases, this shows that the model is overfitting.\n",
        "\n",
        "We could stop or avoid overfitting the data by penalizing the complex models, this is know as regularization.\n",
        "\n",
        "Insted of aiming to minimize loss that is emperical risk mnimization, we have to aim at minimize the loss+model complexity that it structural risk minimization.\n",
        "\n",
        "Now the training optimization term consists of two major terms, loss term - which tells how good the algorithm is and regularization term - it tells how complex the model is.\n",
        "\n",
        "one of the ways to quantify the complexity is using the $L_2$ regularization. which is defined as the sum of sqares of all the weight terms.\n",
        "\n",
        "To tune the impact of regularization term, it is multiplied with a scalar factor known as lambda $\\lambda$\n",
        "\n",
        "Effect of $L_2$ regularization:\n",
        "* encourages weight values towards 0\n",
        "* encouragess mean value of wights towards 0 with a normal distribution.\n",
        "\n"
      ]
    },
    {
      "cell_type": "markdown",
      "metadata": {
        "id": "EMZfCHnTXY7z",
        "colab_type": "text"
      },
      "source": [
        "Logistic regression, generates the probability between 0 and 1.\n",
        "\n",
        "here we use the logistic function or sigmoid function to predict the probability.\n",
        " $$y = \\frac {1}{1+e^{-z}}$$\n",
        "\n",
        "Here the loss function is defines as cross entropy loss function.\n",
        "\n",
        "$$lossL = \\sum -ylogy' - (1-y)log(1-y')$$\n",
        "\n",
        "In orfer to map the logistic regression value to a binary value we define a classification threshold value, that is known as decision threshold.\n",
        "\n",
        "we summarize the model predictions using the confusion matrix. which consists of all the possible outcomes.\n",
        "\n",
        "$$ConfusionMatrix = \\begin{pmatrix}TruePositive & FalsePositive \\\\ FalseNegative & TrueNegative \\end{pmatrix}$$\n",
        "\n",
        "* True positive is an outcome where model correctly predicts the positive class.\n",
        "* True negative is an outcome where model correctly predict negative class.\n",
        "* False positive is an outcome where model incorrectly predicts the positive class.\n",
        "* False negative is an outcome where model incorrectly predict negative class.\n",
        "\n",
        "In case of classification problems using logistic regression, we set a threshold limit and check the accuracy of the output to check the performance of model.\n",
        "\n",
        "$$Accuracy = \\frac {NumberOfCorrectPredictions}{TotalNumber OfPredictions}$$\n",
        "\n",
        "In case of binary classification problesms.\n",
        "\n",
        "$$Accuracy = \\frac {TP + TN}{TP + TN + FP + FN}$$\n",
        "\n",
        "Along with accuracy we use precision and recall scores.\n",
        "\n",
        "precision = true positive / all positive predictions.\n",
        "\n",
        "$$Precision = \\frac {TP}{TP + FP}$$\n",
        "\n",
        "recall = true positives / all actual positives.\n",
        "\n",
        "$$Recall = \\frac {TP}{TP + FN}$$"
      ]
    },
    {
      "cell_type": "markdown",
      "metadata": {
        "id": "mhg6AXhStdgT",
        "colab_type": "text"
      },
      "source": [
        "An ROC curve (Receiver Operating CHarectaristics curve), is a graph showing the performance of the classification model at all threshold values. This curve plots two values.\n",
        "* True positive rate.\n",
        "$$TPR = \\frac {TP}{TP + FN}$$\n",
        "* False positive rate.\n",
        "$$FPR = \\frac {FP}{FP + TN}$$\n",
        "\n",
        "Logistic regression predictions should be unbiased. that is\n",
        "\n",
        "average of predictions = average of observations.\n",
        "\n",
        "prediction bias is the quantity that tells how far apart the two averages are.\n",
        "\n",
        "prediction bias = average of predictions - average of labels in data.\n",
        "\n"
      ]
    },
    {
      "cell_type": "code",
      "metadata": {
        "id": "nwWEf-f20L0c",
        "colab_type": "code",
        "colab": {}
      },
      "source": [
        "from __future__ import print_function\n",
        "\n",
        "import math\n",
        "\n",
        "from IPython import display\n",
        "from matplotlib import cm\n",
        "from matplotlib import gridspec\n",
        "from matplotlib import pyplot as plt\n",
        "import numpy as np\n",
        "import pandas as pd\n",
        "from sklearn import metrics\n",
        "%tensorflow_version 1.x\n",
        "import tensorflow as tf\n",
        "from tensorflow.python.data import Dataset\n",
        "\n",
        "tf.logging.set_verbosity(tf.logging.ERROR)\n",
        "pd.options.display.max_rows = 10\n",
        "pd.options.display.float_format = '{:.1f}'.format"
      ],
      "execution_count": 0,
      "outputs": []
    },
    {
      "cell_type": "code",
      "metadata": {
        "id": "i5Zkleh30WTa",
        "colab_type": "code",
        "outputId": "5d342462-e93c-4bf1-a4db-87292d727184",
        "colab": {
          "base_uri": "https://localhost:8080/",
          "height": 196
        }
      },
      "source": [
        "california_housing_dataframe = pd.read_csv('https://download.mlcc.google.com/mledu-datasets/california_housing_train.csv', sep=',')\n",
        "california_housing_dataframe = california_housing_dataframe.reindex(np.random.permutation(california_housing_dataframe.index))\n",
        "california_housing_dataframe.head()"
      ],
      "execution_count": 0,
      "outputs": [
        {
          "output_type": "execute_result",
          "data": {
            "text/html": [
              "<div>\n",
              "<style scoped>\n",
              "    .dataframe tbody tr th:only-of-type {\n",
              "        vertical-align: middle;\n",
              "    }\n",
              "\n",
              "    .dataframe tbody tr th {\n",
              "        vertical-align: top;\n",
              "    }\n",
              "\n",
              "    .dataframe thead th {\n",
              "        text-align: right;\n",
              "    }\n",
              "</style>\n",
              "<table border=\"1\" class=\"dataframe\">\n",
              "  <thead>\n",
              "    <tr style=\"text-align: right;\">\n",
              "      <th></th>\n",
              "      <th>longitude</th>\n",
              "      <th>latitude</th>\n",
              "      <th>housing_median_age</th>\n",
              "      <th>total_rooms</th>\n",
              "      <th>total_bedrooms</th>\n",
              "      <th>population</th>\n",
              "      <th>households</th>\n",
              "      <th>median_income</th>\n",
              "      <th>median_house_value</th>\n",
              "    </tr>\n",
              "  </thead>\n",
              "  <tbody>\n",
              "    <tr>\n",
              "      <th>2198</th>\n",
              "      <td>-117.4</td>\n",
              "      <td>33.9</td>\n",
              "      <td>21.0</td>\n",
              "      <td>2468.0</td>\n",
              "      <td>380.0</td>\n",
              "      <td>1164.0</td>\n",
              "      <td>385.0</td>\n",
              "      <td>4.1</td>\n",
              "      <td>136800.0</td>\n",
              "    </tr>\n",
              "    <tr>\n",
              "      <th>12571</th>\n",
              "      <td>-121.7</td>\n",
              "      <td>39.2</td>\n",
              "      <td>26.0</td>\n",
              "      <td>2121.0</td>\n",
              "      <td>375.0</td>\n",
              "      <td>1125.0</td>\n",
              "      <td>366.0</td>\n",
              "      <td>3.4</td>\n",
              "      <td>94600.0</td>\n",
              "    </tr>\n",
              "    <tr>\n",
              "      <th>16951</th>\n",
              "      <td>-124.2</td>\n",
              "      <td>40.8</td>\n",
              "      <td>50.0</td>\n",
              "      <td>340.0</td>\n",
              "      <td>74.0</td>\n",
              "      <td>235.0</td>\n",
              "      <td>83.0</td>\n",
              "      <td>1.8</td>\n",
              "      <td>67500.0</td>\n",
              "    </tr>\n",
              "    <tr>\n",
              "      <th>8258</th>\n",
              "      <td>-118.5</td>\n",
              "      <td>34.3</td>\n",
              "      <td>9.0</td>\n",
              "      <td>1739.0</td>\n",
              "      <td>358.0</td>\n",
              "      <td>820.0</td>\n",
              "      <td>323.0</td>\n",
              "      <td>4.1</td>\n",
              "      <td>182500.0</td>\n",
              "    </tr>\n",
              "    <tr>\n",
              "      <th>14654</th>\n",
              "      <td>-122.2</td>\n",
              "      <td>39.5</td>\n",
              "      <td>28.0</td>\n",
              "      <td>1471.0</td>\n",
              "      <td>259.0</td>\n",
              "      <td>673.0</td>\n",
              "      <td>246.0</td>\n",
              "      <td>3.2</td>\n",
              "      <td>81600.0</td>\n",
              "    </tr>\n",
              "  </tbody>\n",
              "</table>\n",
              "</div>"
            ],
            "text/plain": [
              "       longitude  latitude  ...  median_income  median_house_value\n",
              "2198      -117.4      33.9  ...            4.1            136800.0\n",
              "12571     -121.7      39.2  ...            3.4             94600.0\n",
              "16951     -124.2      40.8  ...            1.8             67500.0\n",
              "8258      -118.5      34.3  ...            4.1            182500.0\n",
              "14654     -122.2      39.5  ...            3.2             81600.0\n",
              "\n",
              "[5 rows x 9 columns]"
            ]
          },
          "metadata": {
            "tags": []
          },
          "execution_count": 2
        }
      ]
    },
    {
      "cell_type": "code",
      "metadata": {
        "id": "HRXJfu3a228x",
        "colab_type": "code",
        "colab": {}
      },
      "source": [
        "def preprocess_features(cfd):\n",
        "\n",
        "  selected_features = cfd[[\"latitude\", \"longitude\", \"housing_median_age\", \"total_rooms\", \"total_bedrooms\", \"population\", \"households\", \"median_income\"]]\n",
        "\n",
        "  processed_features = selected_features.copy()\n",
        "  processed_features['rooms_per_person'] = cfd['total_rooms'] / cfd['population']\n",
        "\n",
        "  return processed_features"
      ],
      "execution_count": 0,
      "outputs": []
    },
    {
      "cell_type": "code",
      "metadata": {
        "id": "uCrvN0uB4yP8",
        "colab_type": "code",
        "colab": {}
      },
      "source": [
        "def preprocess_targets(cfd):\n",
        "\n",
        "  target = pd.DataFrame()\n",
        "  target['median_house_value_is_high'] = (cfd['median_house_value'] > 265000).astype(float)\n",
        "\n",
        "  return target"
      ],
      "execution_count": 0,
      "outputs": []
    },
    {
      "cell_type": "code",
      "metadata": {
        "id": "NTZCpWR-5Ja1",
        "colab_type": "code",
        "outputId": "2cee0704-ee12-4300-b3d8-5816d4dc0f49",
        "colab": {
          "base_uri": "https://localhost:8080/",
          "height": 196
        }
      },
      "source": [
        "training_examples = preprocess_features(california_housing_dataframe.head(12000))\n",
        "training_targets = preprocess_targets(california_housing_dataframe.head(12000))\n",
        "\n",
        "validation_examples = preprocess_features(california_housing_dataframe.tail(5000))\n",
        "validation_targets = preprocess_targets(california_housing_dataframe.tail(5000))\n",
        "validation_targets.head()"
      ],
      "execution_count": 0,
      "outputs": [
        {
          "output_type": "execute_result",
          "data": {
            "text/html": [
              "<div>\n",
              "<style scoped>\n",
              "    .dataframe tbody tr th:only-of-type {\n",
              "        vertical-align: middle;\n",
              "    }\n",
              "\n",
              "    .dataframe tbody tr th {\n",
              "        vertical-align: top;\n",
              "    }\n",
              "\n",
              "    .dataframe thead th {\n",
              "        text-align: right;\n",
              "    }\n",
              "</style>\n",
              "<table border=\"1\" class=\"dataframe\">\n",
              "  <thead>\n",
              "    <tr style=\"text-align: right;\">\n",
              "      <th></th>\n",
              "      <th>median_house_value_is_high</th>\n",
              "    </tr>\n",
              "  </thead>\n",
              "  <tbody>\n",
              "    <tr>\n",
              "      <th>16788</th>\n",
              "      <td>0.0</td>\n",
              "    </tr>\n",
              "    <tr>\n",
              "      <th>3393</th>\n",
              "      <td>0.0</td>\n",
              "    </tr>\n",
              "    <tr>\n",
              "      <th>7437</th>\n",
              "      <td>1.0</td>\n",
              "    </tr>\n",
              "    <tr>\n",
              "      <th>8060</th>\n",
              "      <td>1.0</td>\n",
              "    </tr>\n",
              "    <tr>\n",
              "      <th>6968</th>\n",
              "      <td>0.0</td>\n",
              "    </tr>\n",
              "  </tbody>\n",
              "</table>\n",
              "</div>"
            ],
            "text/plain": [
              "       median_house_value_is_high\n",
              "16788                         0.0\n",
              "3393                          0.0\n",
              "7437                          1.0\n",
              "8060                          1.0\n",
              "6968                          0.0"
            ]
          },
          "metadata": {
            "tags": []
          },
          "execution_count": 5
        }
      ]
    },
    {
      "cell_type": "code",
      "metadata": {
        "id": "QGpdc0vz5cVX",
        "colab_type": "code",
        "colab": {}
      },
      "source": [
        "def construct_feature_columns(input_featuers):\n",
        "\n",
        "  return set([tf.feature_column.numeric_column(my_features) for my_features in input_featuers])"
      ],
      "execution_count": 0,
      "outputs": []
    },
    {
      "cell_type": "code",
      "metadata": {
        "id": "kqf6jHt_6b6o",
        "colab_type": "code",
        "colab": {}
      },
      "source": [
        "def my_input_fn(features, targets, batch_size = 1, shuffle=True, epochs=None):\n",
        "\n",
        "  features = {key:np.array(value) for key,value in dict(features).items()}\n",
        "\n",
        "  ds = Dataset.from_tensor_slices((features, targets))\n",
        "  ds = ds.batch(batch_size).repeat(epochs)\n",
        "\n",
        "  if shuffle:\n",
        "    ds = ds.shuffle(10000)\n",
        "\n",
        "  features, targets = ds.make_one_shot_iterator().get_next()\n",
        "\n",
        "  return features, targets"
      ],
      "execution_count": 0,
      "outputs": []
    },
    {
      "cell_type": "code",
      "metadata": {
        "id": "zJQxMGxO7y5_",
        "colab_type": "code",
        "colab": {}
      },
      "source": [
        "def train_linear_regressor_model(learning_rate, steps, batch_size, training_examples, training_targets, validation_examples, validation_targets):\n",
        "\n",
        "  periods = 10\n",
        "  steps_per_period = steps / periods\n",
        "\n",
        "  my_optimizor = tf.train.GradientDescentOptimizer(learning_rate)\n",
        "  my_optimizor = tf.contrib.estimator.clip_gradients_by_norm(my_optimizor, 5.0)\n",
        "\n",
        "  linear_regressor = tf.estimator.LinearRegressor(feature_columns=construct_feature_columns(training_examples), optimizer=my_optimizor)\n",
        "\n",
        "  training_input_fn = lambda: my_input_fn(training_examples, training_targets, batch_size)\n",
        "  predict_training_input_fn = lambda: my_input_fn(training_examples, training_targets, shuffle=False, epochs=1)\n",
        "  predict_validation_input_fn = lambda: my_input_fn(validation_examples, validation_targets, shuffle=False, epochs=1)\n",
        "\n",
        "  print('training model')\n",
        "  print('RMSE on training data')\n",
        "  training_RMSE = []\n",
        "  validation_RMSE = []\n",
        "  for period in range(periods):\n",
        "\n",
        "    linear_regressor.train(training_input_fn, steps=steps_per_period)\n",
        "\n",
        "    prediction_training = linear_regressor.predict(predict_training_input_fn)\n",
        "    prediction_training = np.array([items['predictions'][0] for items in prediction_training])\n",
        "\n",
        "    prediction_validation = linear_regressor.predict(predict_validation_input_fn)\n",
        "    prediction_validation = np.array([items['predictions'][0] for items in prediction_validation])\n",
        "\n",
        "    rmse_training = math.sqrt(metrics.mean_squared_error(prediction_training, training_targets))\n",
        "    print(\"period %02d training examples : %0.2f\" % (period, rmse_training))\n",
        "\n",
        "    rmse_validation = math.sqrt(metrics.mean_squared_error(prediction_validation, validation_targets))\n",
        "    print(\"period %02d validation examples : %0.2f\" % (period, rmse_validation))\n",
        "\n",
        "    training_RMSE.append(rmse_training)\n",
        "    validation_RMSE.append(rmse_validation)\n",
        "\n",
        "  print('training complete')\n",
        "  plt.ylabel(\"RMSE\")\n",
        "  plt.xlabel(\"Periods\")\n",
        "  plt.title(\"Root Mean Squared Error vs. Periods\")\n",
        "  plt.tight_layout()\n",
        "  plt.plot(training_RMSE, label=\"training\")\n",
        "  plt.plot(validation_RMSE, label=\"validation\")\n",
        "  plt.legend()\n",
        "\n",
        "  return linear_regressor"
      ],
      "execution_count": 0,
      "outputs": []
    },
    {
      "cell_type": "code",
      "metadata": {
        "id": "Lt0ozsKJAYb4",
        "colab_type": "code",
        "outputId": "21012529-2916-4434-9773-b99c8356d8b8",
        "colab": {
          "base_uri": "https://localhost:8080/",
          "height": 700
        }
      },
      "source": [
        "linear_regressor = train_linear_regressor_model(0.000001,200,20,training_examples,training_targets,validation_examples,validation_targets)"
      ],
      "execution_count": 0,
      "outputs": [
        {
          "output_type": "stream",
          "text": [
            "training model\n",
            "RMSE on training data\n",
            "period 00 training examples : 0.45\n",
            "period 00 validation examples : 0.46\n",
            "period 01 training examples : 0.44\n",
            "period 01 validation examples : 0.45\n",
            "period 02 training examples : 0.44\n",
            "period 02 validation examples : 0.45\n",
            "period 03 training examples : 0.44\n",
            "period 03 validation examples : 0.45\n",
            "period 04 training examples : 0.44\n",
            "period 04 validation examples : 0.45\n",
            "period 05 training examples : 0.44\n",
            "period 05 validation examples : 0.45\n",
            "period 06 training examples : 0.44\n",
            "period 06 validation examples : 0.45\n",
            "period 07 training examples : 0.44\n",
            "period 07 validation examples : 0.45\n",
            "period 08 training examples : 0.44\n",
            "period 08 validation examples : 0.45\n",
            "period 09 training examples : 0.44\n",
            "period 09 validation examples : 0.45\n",
            "training complete\n"
          ],
          "name": "stdout"
        },
        {
          "output_type": "display_data",
          "data": {
            "image/png": "[encoded data removed]",
            "text/plain": [
              "<Figure size 432x288 with 1 Axes>"
            ]
          },
          "metadata": {
            "tags": []
          }
        }
      ]
    },
    {
      "cell_type": "code",
      "metadata": {
        "id": "LGFc8MlSBWwU",
        "colab_type": "code",
        "colab": {}
      },
      "source": [
        "# training with log loss\n",
        "def train_linear_classifier_model_with_log_loss(learning_rate, steps, batch_size, training_examples, training_targets, validation_examples, validation_targets):\n",
        "\n",
        "  periods = 10\n",
        "  steps_per_period = steps / periods\n",
        "\n",
        "  my_optimizor = tf.train.GradientDescentOptimizer(learning_rate)\n",
        "  my_optimizor = tf.contrib.estimator.clip_gradients_by_norm(my_optimizor, 5.0)\n",
        "\n",
        "  linear_classifier = tf.estimator.LinearClassifier(feature_columns=construct_feature_columns(training_examples), optimizer=my_optimizor)\n",
        "\n",
        "  training_input_fn = lambda: my_input_fn(training_examples, training_targets, batch_size)\n",
        "  predict_training_input_fn = lambda: my_input_fn(training_examples, training_targets, shuffle=False, epochs=1)\n",
        "  predict_validation_input_fn = lambda: my_input_fn(validation_examples, validation_targets, shuffle=False, epochs=1)\n",
        "\n",
        "  print('training model')\n",
        "  print('RMSE on training data')\n",
        "  training_logloss = []\n",
        "  validation_logloss = []\n",
        "  for period in range(periods):\n",
        "\n",
        "    linear_classifier.train(training_input_fn, steps=steps_per_period)\n",
        "\n",
        "    prob_training = linear_classifier.predict(predict_training_input_fn)\n",
        "    prob_training = np.array([items['probabilities'] for items in prob_training])\n",
        "\n",
        "    prob_validation = linear_classifier.predict(predict_validation_input_fn)\n",
        "    prob_validation = np.array([items['probabilities'] for items in prob_validation])\n",
        "\n",
        "    logloss_training = metrics.log_loss(training_targets, prob_training)\n",
        "    print(\"period %02d training examples : %0.2f\" % (period, logloss_training))\n",
        "\n",
        "    logloss_validation = metrics.log_loss(validation_targets, prob_validation)\n",
        "    print(\"period %02d validation examples : %0.2f\" % (period, logloss_validation))\n",
        "\n",
        "    training_logloss.append(logloss_training)\n",
        "    validation_logloss.append(logloss_validation)\n",
        "\n",
        "  print('training complete')\n",
        "  plt.ylabel(\"LogLoss\")\n",
        "  plt.xlabel(\"Periods\")\n",
        "  plt.title(\"Log Loss vs. Periods\")\n",
        "  plt.tight_layout()\n",
        "  plt.plot(training_logloss, label=\"training\")\n",
        "  plt.plot(validation_logloss, label=\"validation\")\n",
        "  plt.legend()\n",
        "\n",
        "  return linear_regressor"
      ],
      "execution_count": 0,
      "outputs": []
    },
    {
      "cell_type": "code",
      "metadata": {
        "id": "McC6vpJ6B7Uu",
        "colab_type": "code",
        "outputId": "a4a01f7e-4b21-4357-b9c9-064611e2e75a",
        "colab": {
          "base_uri": "https://localhost:8080/",
          "height": 700
        }
      },
      "source": [
        "linear_classifier = train_linear_classifier_model_with_log_loss(0.000005,500,20,training_examples,training_targets,validation_examples,validation_targets)"
      ],
      "execution_count": 0,
      "outputs": [
        {
          "output_type": "stream",
          "text": [
            "training model\n",
            "RMSE on training data\n",
            "period 00 training examples : 0.60\n",
            "period 00 validation examples : 0.60\n",
            "period 01 training examples : 0.58\n",
            "period 01 validation examples : 0.59\n",
            "period 02 training examples : 0.57\n",
            "period 02 validation examples : 0.57\n",
            "period 03 training examples : 0.56\n",
            "period 03 validation examples : 0.57\n",
            "period 04 training examples : 0.55\n",
            "period 04 validation examples : 0.56\n",
            "period 05 training examples : 0.54\n",
            "period 05 validation examples : 0.55\n",
            "period 06 training examples : 0.53\n",
            "period 06 validation examples : 0.54\n",
            "period 07 training examples : 0.53\n",
            "period 07 validation examples : 0.54\n",
            "period 08 training examples : 0.53\n",
            "period 08 validation examples : 0.54\n",
            "period 09 training examples : 0.52\n",
            "period 09 validation examples : 0.54\n",
            "training complete\n"
          ],
          "name": "stdout"
        },
        {
          "output_type": "display_data",
          "data": {
            "image/png": "[encoded data removed]",
            "text/plain": [
              "<Figure size 432x288 with 1 Axes>"
            ]
          },
          "metadata": {
            "tags": []
          }
        }
      ]
    },
    {
      "cell_type": "code",
      "metadata": {
        "id": "D2I6DHotETIc",
        "colab_type": "code",
        "outputId": "6d97afa3-6f9a-4544-d169-cba2e935dbc7",
        "colab": {
          "base_uri": "https://localhost:8080/",
          "height": 362
        }
      },
      "source": [
        "predict_validation_input_fn = lambda: my_input_fn(validation_examples, validation_targets, shuffle=False, epochs=1)\n",
        "\n",
        "prob_validation = linear_classifier.predict(predict_validation_input_fn)\n",
        "prob_validation = np.array([item['probabilities'][1] for item in prob_validation])\n",
        "\n",
        "false_positive_rate, true_positive_rate, thresholds = metrics.roc_curve(validation_targets, prob_validation)\n",
        "plt.plot(false_positive_rate, true_positive_rate, label=\"our model\")\n",
        "plt.plot([0, 1], [0, 1], label=\"random classifier\")\n",
        "plt.legend(loc=2)\n",
        "plt.show()"
      ],
      "execution_count": 0,
      "outputs": [
        {
          "output_type": "error",
          "ename": "KeyError",
          "evalue": "ignored",
          "traceback": [
            "\u001b[0;31m---------------------------------------------------------------------------\u001b[0m",
            "\u001b[0;31mKeyError\u001b[0m                                  Traceback (most recent call last)",
            "\u001b[0;32m<ipython-input-14-d2ec0a0360d0>\u001b[0m in \u001b[0;36m<module>\u001b[0;34m()\u001b[0m\n\u001b[1;32m      2\u001b[0m \u001b[0;34m\u001b[0m\u001b[0m\n\u001b[1;32m      3\u001b[0m \u001b[0mprob_validation\u001b[0m \u001b[0;34m=\u001b[0m \u001b[0mlinear_classifier\u001b[0m\u001b[0;34m.\u001b[0m\u001b[0mpredict\u001b[0m\u001b[0;34m(\u001b[0m\u001b[0mpredict_validation_input_fn\u001b[0m\u001b[0;34m)\u001b[0m\u001b[0;34m\u001b[0m\u001b[0;34m\u001b[0m\u001b[0m\n\u001b[0;32m----> 4\u001b[0;31m \u001b[0mprob_validation\u001b[0m \u001b[0;34m=\u001b[0m \u001b[0mnp\u001b[0m\u001b[0;34m.\u001b[0m\u001b[0marray\u001b[0m\u001b[0;34m(\u001b[0m\u001b[0;34m[\u001b[0m\u001b[0mitem\u001b[0m\u001b[0;34m[\u001b[0m\u001b[0;34m'probabilities'\u001b[0m\u001b[0;34m]\u001b[0m\u001b[0;34m[\u001b[0m\u001b[0;36m1\u001b[0m\u001b[0;34m]\u001b[0m \u001b[0;32mfor\u001b[0m \u001b[0mitem\u001b[0m \u001b[0;32min\u001b[0m \u001b[0mprob_validation\u001b[0m\u001b[0;34m]\u001b[0m\u001b[0;34m)\u001b[0m\u001b[0;34m\u001b[0m\u001b[0;34m\u001b[0m\u001b[0m\n\u001b[0m\u001b[1;32m      5\u001b[0m \u001b[0;34m\u001b[0m\u001b[0m\n\u001b[1;32m      6\u001b[0m \u001b[0mfalse_positive_rate\u001b[0m\u001b[0;34m,\u001b[0m \u001b[0mtrue_positive_rate\u001b[0m\u001b[0;34m,\u001b[0m \u001b[0mthresholds\u001b[0m \u001b[0;34m=\u001b[0m \u001b[0mmetrics\u001b[0m\u001b[0;34m.\u001b[0m\u001b[0mroc_curve\u001b[0m\u001b[0;34m(\u001b[0m\u001b[0mvalidation_targets\u001b[0m\u001b[0;34m,\u001b[0m \u001b[0mprob_validation\u001b[0m\u001b[0;34m)\u001b[0m\u001b[0;34m\u001b[0m\u001b[0;34m\u001b[0m\u001b[0m\n",
            "\u001b[0;32m<ipython-input-14-d2ec0a0360d0>\u001b[0m in \u001b[0;36m<listcomp>\u001b[0;34m(.0)\u001b[0m\n\u001b[1;32m      2\u001b[0m \u001b[0;34m\u001b[0m\u001b[0m\n\u001b[1;32m      3\u001b[0m \u001b[0mprob_validation\u001b[0m \u001b[0;34m=\u001b[0m \u001b[0mlinear_classifier\u001b[0m\u001b[0;34m.\u001b[0m\u001b[0mpredict\u001b[0m\u001b[0;34m(\u001b[0m\u001b[0mpredict_validation_input_fn\u001b[0m\u001b[0;34m)\u001b[0m\u001b[0;34m\u001b[0m\u001b[0;34m\u001b[0m\u001b[0m\n\u001b[0;32m----> 4\u001b[0;31m \u001b[0mprob_validation\u001b[0m \u001b[0;34m=\u001b[0m \u001b[0mnp\u001b[0m\u001b[0;34m.\u001b[0m\u001b[0marray\u001b[0m\u001b[0;34m(\u001b[0m\u001b[0;34m[\u001b[0m\u001b[0mitem\u001b[0m\u001b[0;34m[\u001b[0m\u001b[0;34m'probabilities'\u001b[0m\u001b[0;34m]\u001b[0m\u001b[0;34m[\u001b[0m\u001b[0;36m1\u001b[0m\u001b[0;34m]\u001b[0m \u001b[0;32mfor\u001b[0m \u001b[0mitem\u001b[0m \u001b[0;32min\u001b[0m \u001b[0mprob_validation\u001b[0m\u001b[0;34m]\u001b[0m\u001b[0;34m)\u001b[0m\u001b[0;34m\u001b[0m\u001b[0;34m\u001b[0m\u001b[0m\n\u001b[0m\u001b[1;32m      5\u001b[0m \u001b[0;34m\u001b[0m\u001b[0m\n\u001b[1;32m      6\u001b[0m \u001b[0mfalse_positive_rate\u001b[0m\u001b[0;34m,\u001b[0m \u001b[0mtrue_positive_rate\u001b[0m\u001b[0;34m,\u001b[0m \u001b[0mthresholds\u001b[0m \u001b[0;34m=\u001b[0m \u001b[0mmetrics\u001b[0m\u001b[0;34m.\u001b[0m\u001b[0mroc_curve\u001b[0m\u001b[0;34m(\u001b[0m\u001b[0mvalidation_targets\u001b[0m\u001b[0;34m,\u001b[0m \u001b[0mprob_validation\u001b[0m\u001b[0;34m)\u001b[0m\u001b[0;34m\u001b[0m\u001b[0;34m\u001b[0m\u001b[0m\n",
            "\u001b[0;31mKeyError\u001b[0m: 'probabilities'"
          ]
        }
      ]
    },
    {
      "cell_type": "code",
      "metadata": {
        "id": "AScRweUxKsns",
        "colab_type": "code",
        "outputId": "a4c23d65-b51a-408e-f32c-16d864ff079c",
        "colab": {
          "base_uri": "https://localhost:8080/",
          "height": 379
        }
      },
      "source": [
        "predict_validation_input_fn = lambda: my_input_fn(validation_examples, \n",
        "                                                  validation_targets[\"median_house_value_is_high\"], \n",
        "                                                  epochs=1, \n",
        "                                                  shuffle=False)\n",
        "\n",
        "validation_probabilities = linear_classifier.predict(input_fn=predict_validation_input_fn)\n",
        "print(validation_probabilities)\n",
        "# Get just the probabilities for the positive class.\n",
        "validation_probabilities = np.array([item['probabilities'] for item in validation_probabilities])\n",
        "\n",
        "false_positive_rate, true_positive_rate, thresholds = metrics.roc_curve(\n",
        "    validation_targets, validation_probabilities)\n",
        "plt.plot(false_positive_rate, true_positive_rate, label=\"our model\")\n",
        "plt.plot([0, 1], [0, 1], label=\"random classifier\")\n",
        "_ = plt.legend(loc=2)"
      ],
      "execution_count": 0,
      "outputs": [
        {
          "output_type": "stream",
          "text": [
            "<generator object Estimator.predict at 0x7f5f9f1a8678>\n"
          ],
          "name": "stdout"
        },
        {
          "output_type": "error",
          "ename": "KeyError",
          "evalue": "ignored",
          "traceback": [
            "\u001b[0;31m---------------------------------------------------------------------------\u001b[0m",
            "\u001b[0;31mKeyError\u001b[0m                                  Traceback (most recent call last)",
            "\u001b[0;32m<ipython-input-19-edf61293beb8>\u001b[0m in \u001b[0;36m<module>\u001b[0;34m()\u001b[0m\n\u001b[1;32m      7\u001b[0m \u001b[0mprint\u001b[0m\u001b[0;34m(\u001b[0m\u001b[0mvalidation_probabilities\u001b[0m\u001b[0;34m)\u001b[0m\u001b[0;34m\u001b[0m\u001b[0;34m\u001b[0m\u001b[0m\n\u001b[1;32m      8\u001b[0m \u001b[0;31m# Get just the probabilities for the positive class.\u001b[0m\u001b[0;34m\u001b[0m\u001b[0;34m\u001b[0m\u001b[0;34m\u001b[0m\u001b[0m\n\u001b[0;32m----> 9\u001b[0;31m \u001b[0mvalidation_probabilities\u001b[0m \u001b[0;34m=\u001b[0m \u001b[0mnp\u001b[0m\u001b[0;34m.\u001b[0m\u001b[0marray\u001b[0m\u001b[0;34m(\u001b[0m\u001b[0;34m[\u001b[0m\u001b[0mitem\u001b[0m\u001b[0;34m[\u001b[0m\u001b[0;34m'probabilities'\u001b[0m\u001b[0;34m]\u001b[0m \u001b[0;32mfor\u001b[0m \u001b[0mitem\u001b[0m \u001b[0;32min\u001b[0m \u001b[0mvalidation_probabilities\u001b[0m\u001b[0;34m]\u001b[0m\u001b[0;34m)\u001b[0m\u001b[0;34m\u001b[0m\u001b[0;34m\u001b[0m\u001b[0m\n\u001b[0m\u001b[1;32m     10\u001b[0m \u001b[0;34m\u001b[0m\u001b[0m\n\u001b[1;32m     11\u001b[0m false_positive_rate, true_positive_rate, thresholds = metrics.roc_curve(\n",
            "\u001b[0;32m<ipython-input-19-edf61293beb8>\u001b[0m in \u001b[0;36m<listcomp>\u001b[0;34m(.0)\u001b[0m\n\u001b[1;32m      7\u001b[0m \u001b[0mprint\u001b[0m\u001b[0;34m(\u001b[0m\u001b[0mvalidation_probabilities\u001b[0m\u001b[0;34m)\u001b[0m\u001b[0;34m\u001b[0m\u001b[0;34m\u001b[0m\u001b[0m\n\u001b[1;32m      8\u001b[0m \u001b[0;31m# Get just the probabilities for the positive class.\u001b[0m\u001b[0;34m\u001b[0m\u001b[0;34m\u001b[0m\u001b[0;34m\u001b[0m\u001b[0m\n\u001b[0;32m----> 9\u001b[0;31m \u001b[0mvalidation_probabilities\u001b[0m \u001b[0;34m=\u001b[0m \u001b[0mnp\u001b[0m\u001b[0;34m.\u001b[0m\u001b[0marray\u001b[0m\u001b[0;34m(\u001b[0m\u001b[0;34m[\u001b[0m\u001b[0mitem\u001b[0m\u001b[0;34m[\u001b[0m\u001b[0;34m'probabilities'\u001b[0m\u001b[0;34m]\u001b[0m \u001b[0;32mfor\u001b[0m \u001b[0mitem\u001b[0m \u001b[0;32min\u001b[0m \u001b[0mvalidation_probabilities\u001b[0m\u001b[0;34m]\u001b[0m\u001b[0;34m)\u001b[0m\u001b[0;34m\u001b[0m\u001b[0;34m\u001b[0m\u001b[0m\n\u001b[0m\u001b[1;32m     10\u001b[0m \u001b[0;34m\u001b[0m\u001b[0m\n\u001b[1;32m     11\u001b[0m false_positive_rate, true_positive_rate, thresholds = metrics.roc_curve(\n",
            "\u001b[0;31mKeyError\u001b[0m: 'probabilities'"
          ]
        }
      ]
    },
    {
      "cell_type": "code",
      "metadata": {
        "id": "Xsx3zmkSE5Wt",
        "colab_type": "code",
        "colab": {}
      },
      "source": [
        "linear_classifier = train_linear_classifier_model_with_log_loss(0.000005,500,20,training_examples,training_targets,validation_examples,validation_targets)\n",
        "\n",
        "evaluation_metrics = linear_classifier.evaluate(input_fn=predict_validation_input_fn)\n",
        "\n",
        "print(\"AUC on the validation set: %0.2f\" % evaluation_metrics['auc'])\n",
        "print(\"Accuracy on the validation set: %0.2f\" % evaluation_metrics['accuracy'])"
      ],
      "execution_count": 0,
      "outputs": []
    }
  ]
}